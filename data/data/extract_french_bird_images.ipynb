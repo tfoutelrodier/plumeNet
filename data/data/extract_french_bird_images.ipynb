{
 "cells": [
  {
   "cell_type": "code",
   "execution_count": 1,
   "metadata": {},
   "outputs": [],
   "source": [
    "import tarfile\n",
    "import os\n",
    "import pandas as pd"
   ]
  },
  {
   "cell_type": "code",
   "execution_count": 27,
   "metadata": {},
   "outputs": [],
   "source": [
    "def get_valid_bird_data(bird_metadata:'DataFrame', nb_image_threshold:int=50) -> 'DataFrame':\n",
    "    \"\"\"\n",
    "    Filter bird data to keep only species with more than X images\n",
    "    \"\"\"\n",
    "    return bird_metadata.loc[bird_metadata['nb_images'] >= nb_image_threshold,:]"
   ]
  },
  {
   "cell_type": "code",
   "execution_count": 33,
   "metadata": {},
   "outputs": [],
   "source": [
    "def get_top_birds(bird_metadata:'DataFrame', nb_birds:int=50) -> 'DataFrame':\n",
    "    '''\n",
    "    Return dataframe with top nb_birds in term of image number\n",
    "    '''\n",
    "    return bird_metadata.sort_values(by='nb_images', ascending=False).iloc[:nb_birds,:]"
   ]
  },
  {
   "cell_type": "code",
   "execution_count": 11,
   "metadata": {},
   "outputs": [],
   "source": [
    "def gzip_folder(folder_path:str, output_tgz_path:str) -> None:\n",
    "    if not os.path.isdir(folder_path):\n",
    "        raise ValueError(f\"The folder {folder_path} does not exist.\")\n",
    "    \n",
    "    with tarfile.open(output_tgz_path, \"w:gz\") as tar:\n",
    "        tar.add(folder_path, arcname=os.path.basename(folder_path))"
   ]
  },
  {
   "cell_type": "code",
   "execution_count": 16,
   "metadata": {},
   "outputs": [],
   "source": [
    "def extract_folder_from_tgz(tgz_path:str, target_folder:str, output_dir_path:str) -> None:\n",
    "    \"\"\"\n",
    "    Extract target folder from a .tgz file to output_dir_path\n",
    "\n",
    "    tgz_path: path to .tgz file\n",
    "    target_folder: relative path to folder inside .tgz file\n",
    "    output_dir_paht: path to compressed folder \n",
    "    \"\"\"\n",
    "\n",
    "    with tarfile.open(tgz_path, 'r:gz') as tar:\n",
    "        for member in tar.getmembers():\n",
    "            # print(member)\n",
    "            # Check if the member belongs to the target folder\n",
    "            if member.name.startswith(target_folder):\n",
    "                # Extract the member to the output directory\n",
    "                tar.extract(member, path=output_dir_path)"
   ]
  },
  {
   "cell_type": "code",
   "execution_count": 24,
   "metadata": {},
   "outputs": [],
   "source": [
    "def extract_folders_from_tgz(tgz_path:str, target_folders_dict:set, output_dir_path:str) -> None:\n",
    "    \"\"\"\n",
    "    Extract target folders from a .tgz file to given location\n",
    "\n",
    "    tgz_path: path to .tgz file\n",
    "    targets_folders_dict: dict (target_folder:species_name)\n",
    "    output_dir_paht: path to compressed folder \n",
    "    \"\"\"\n",
    "\n",
    "    with tarfile.open(tgz_path, 'r:gz') as tar:\n",
    "        for member in tar.getmembers():\n",
    "            # print(member)\n",
    "            # Check if the member belongs to the target folder\n",
    "            for target_folder in target_folders_dict:\n",
    "                if member.name.startswith(target_folder):\n",
    "                    # Extract the member to the output directory\n",
    "                    tar.extract(member, path=output_dir_path)\n",
    "                \n",
    "                    # rename and compress output dir\n",
    "                    current_dir_name = os.path.join(output_dir_path, target_folder)\n",
    "                    new_dir_name = os.path.join(output_dir_path, target_folders_dict[target_folder]) \n",
    "                    os.rename(current_dir_name, new_dir_name)\n",
    "                    gzip_folder(new_dir_name, new_dir_name + '.tgz')"
   ]
  },
  {
   "cell_type": "code",
   "execution_count": null,
   "metadata": {},
   "outputs": [],
   "source": [
    "def rename_and_compress_folder(folder_path:str, bird_name:str) -> None:\n",
    "    \"\"\"\n",
    "    Rename extracted image folder to folder\n",
    "    \"\"\""
   ]
  },
  {
   "cell_type": "code",
   "execution_count": 13,
   "metadata": {},
   "outputs": [
    {
     "data": {
      "text/html": [
       "<div>\n",
       "<style scoped>\n",
       "    .dataframe tbody tr th:only-of-type {\n",
       "        vertical-align: middle;\n",
       "    }\n",
       "\n",
       "    .dataframe tbody tr th {\n",
       "        vertical-align: top;\n",
       "    }\n",
       "\n",
       "    .dataframe thead th {\n",
       "        text-align: right;\n",
       "    }\n",
       "</style>\n",
       "<table border=\"1\" class=\"dataframe\">\n",
       "  <thead>\n",
       "    <tr style=\"text-align: right;\">\n",
       "      <th></th>\n",
       "      <th>Categorie</th>\n",
       "      <th>Ordre</th>\n",
       "      <th>Famille</th>\n",
       "      <th>Nom_EN</th>\n",
       "      <th>Nom_LT</th>\n",
       "      <th>Nom_FR</th>\n",
       "      <th>Url_EN</th>\n",
       "      <th>Url_FR</th>\n",
       "      <th>english_name_snake_case</th>\n",
       "      <th>bird_name</th>\n",
       "      <th>bird_name_raw</th>\n",
       "      <th>dataset_part</th>\n",
       "      <th>folder</th>\n",
       "      <th>nb_images</th>\n",
       "    </tr>\n",
       "  </thead>\n",
       "  <tbody>\n",
       "    <tr>\n",
       "      <th>0</th>\n",
       "      <td>Ducks, geese, and waterfowl</td>\n",
       "      <td>Anseriformes</td>\n",
       "      <td>Anatidae</td>\n",
       "      <td>Snow goose</td>\n",
       "      <td>Anser caerulescens</td>\n",
       "      <td>oie des neiges</td>\n",
       "      <td>https://en.wikipedia.org/wiki/Snow_goose</td>\n",
       "      <td>https://fr.wikipedia.org/wiki/Oie_des_neiges</td>\n",
       "      <td>snow_goose</td>\n",
       "      <td>snow_goose</td>\n",
       "      <td>Snow Goose</td>\n",
       "      <td>DIB-10K_1</td>\n",
       "      <td>83.Snow Goose</td>\n",
       "      <td>1908</td>\n",
       "    </tr>\n",
       "    <tr>\n",
       "      <th>1</th>\n",
       "      <td>Ducks, geese, and waterfowl</td>\n",
       "      <td>Anseriformes</td>\n",
       "      <td>Anatidae</td>\n",
       "      <td>Greater white-fronted goose</td>\n",
       "      <td>Anser albifrons</td>\n",
       "      <td>oie rieuse</td>\n",
       "      <td>https://en.wikipedia.org/wiki/Greater_white-fr...</td>\n",
       "      <td>https://fr.wikipedia.org/wiki/Oie_rieuse</td>\n",
       "      <td>greater_white_fronted_goose</td>\n",
       "      <td>greater_white_fronted_goose</td>\n",
       "      <td>Greater White-fronted Goose</td>\n",
       "      <td>DIB-10K_2</td>\n",
       "      <td>89.Greater White-fronted Goose</td>\n",
       "      <td>2613</td>\n",
       "    </tr>\n",
       "  </tbody>\n",
       "</table>\n",
       "</div>"
      ],
      "text/plain": [
       "                     Categorie         Ordre   Famille  \\\n",
       "0  Ducks, geese, and waterfowl  Anseriformes  Anatidae   \n",
       "1  Ducks, geese, and waterfowl  Anseriformes  Anatidae   \n",
       "\n",
       "                        Nom_EN              Nom_LT          Nom_FR  \\\n",
       "0                   Snow goose  Anser caerulescens  oie des neiges   \n",
       "1  Greater white-fronted goose     Anser albifrons      oie rieuse   \n",
       "\n",
       "                                              Url_EN  \\\n",
       "0           https://en.wikipedia.org/wiki/Snow_goose   \n",
       "1  https://en.wikipedia.org/wiki/Greater_white-fr...   \n",
       "\n",
       "                                         Url_FR      english_name_snake_case  \\\n",
       "0  https://fr.wikipedia.org/wiki/Oie_des_neiges                   snow_goose   \n",
       "1      https://fr.wikipedia.org/wiki/Oie_rieuse  greater_white_fronted_goose   \n",
       "\n",
       "                     bird_name                bird_name_raw dataset_part  \\\n",
       "0                   snow_goose                   Snow Goose    DIB-10K_1   \n",
       "1  greater_white_fronted_goose  Greater White-fronted Goose    DIB-10K_2   \n",
       "\n",
       "                           folder  nb_images  \n",
       "0                   83.Snow Goose       1908  \n",
       "1  89.Greater White-fronted Goose       2613  "
      ]
     },
     "execution_count": 13,
     "metadata": {},
     "output_type": "execute_result"
    }
   ],
   "source": [
    "french_bird_metadata_file = \"../../french_birds_metadata.csv\"\n",
    "french_bird_metadata = pd.read_csv(french_bird_metadata_file, sep=\";\", header=0)\n",
    "french_bird_metadata.head(2)"
   ]
  },
  {
   "cell_type": "code",
   "execution_count": 32,
   "metadata": {},
   "outputs": [
    {
     "data": {
      "text/plain": [
       "((546, 14), (424, 14))"
      ]
     },
     "execution_count": 32,
     "metadata": {},
     "output_type": "execute_result"
    }
   ],
   "source": [
    "french_bird_metadata_valid = get_valid_bird_data(french_bird_metadata, 100)\n",
    "french_bird_metadata.shape, french_bird_metadata_valid.shape"
   ]
  },
  {
   "cell_type": "code",
   "execution_count": 34,
   "metadata": {},
   "outputs": [
    {
     "data": {
      "text/plain": [
       "(50, 14)"
      ]
     },
     "execution_count": 34,
     "metadata": {},
     "output_type": "execute_result"
    }
   ],
   "source": [
    "top_birds_metadata = get_top_birds(french_bird_metadata_valid, 50)\n",
    "top_birds_metadata.shape"
   ]
  },
  {
   "cell_type": "code",
   "execution_count": 17,
   "metadata": {},
   "outputs": [],
   "source": [
    "# data_folder = '../raw_data/IDB'\n",
    "# folder = french_bird_metadata['folder'].iloc[16]\n",
    "# tgz_path = data_folder + '/' + french_bird_metadata['dataset_part'].iloc[16] + \".tgz\"\n",
    "\n",
    "# output_dir='test'\n",
    "# # os.mkdir(output_dir)\n",
    "# extract_folder_from_tgz(tgz_path, folder, output_dir)"
   ]
  },
  {
   "cell_type": "code",
   "execution_count": 26,
   "metadata": {},
   "outputs": [],
   "source": [
    "dataset_parts = list(top_birds_metadata['dataset_part'].unique())\n",
    "output_dir='test'\n",
    "data_folder = '../raw_data/IDB'\n",
    "\n",
    "# for each dataset part, list folder that need to be retrieved and do it\n",
    "dataset_part = dataset_parts[0]\n",
    "\n",
    "sub_bird_df = top_birds_metadata.loc[top_birds_metadata['dataset_part'] == dataset_part]\n",
    "target_species_dict = dict(zip(sub_bird_df['folder'], sub_bird_df['bird_name']))\n",
    "tgz_path = data_folder + '/' + dataset_part + \".tgz\"\n",
    "\n",
    "for target_folder in target_species_dict:\n",
    "    extract_folder_from_tgz(tgz_path, target_folder, output_dir)\n",
    "# extract_folders_from_tgz(tgz_path, target_species_dict, output_dir)"
   ]
  },
  {
   "cell_type": "code",
   "execution_count": null,
   "metadata": {},
   "outputs": [],
   "source": []
  }
 ],
 "metadata": {
  "kernelspec": {
   "display_name": "artefact",
   "language": "python",
   "name": "python3"
  },
  "language_info": {
   "codemirror_mode": {
    "name": "ipython",
    "version": 3
   },
   "file_extension": ".py",
   "mimetype": "text/x-python",
   "name": "python",
   "nbconvert_exporter": "python",
   "pygments_lexer": "ipython3",
   "version": "3.10.12"
  }
 },
 "nbformat": 4,
 "nbformat_minor": 2
}
