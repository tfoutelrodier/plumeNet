{
 "cells": [
  {
   "cell_type": "code",
   "execution_count": 22,
   "metadata": {},
   "outputs": [],
   "source": [
    "import tarfile\n",
    "import os\n",
    "import pandas as pd\n",
    "from pathlib import Path"
   ]
  },
  {
   "cell_type": "code",
   "execution_count": 23,
   "metadata": {},
   "outputs": [],
   "source": [
    "def get_valid_bird_data(bird_metadata:'DataFrame', nb_image_threshold:int=50) -> 'DataFrame':\n",
    "    \"\"\"\n",
    "    Filter bird data to keep only species with more than X images\n",
    "    \"\"\"\n",
    "    return bird_metadata.loc[bird_metadata['nb_images'] >= nb_image_threshold,:]"
   ]
  },
  {
   "cell_type": "code",
   "execution_count": 24,
   "metadata": {},
   "outputs": [],
   "source": [
    "def get_top_birds(bird_metadata:'DataFrame', nb_birds:int=50) -> 'DataFrame':\n",
    "    '''\n",
    "    Return dataframe with top nb_birds in term of image number\n",
    "    '''\n",
    "    return bird_metadata.sort_values(by='nb_images', ascending=False).iloc[:nb_birds,:]"
   ]
  },
  {
   "cell_type": "code",
   "execution_count": 25,
   "metadata": {},
   "outputs": [],
   "source": [
    "def gzip_folder(folder_path:str, output_tgz_path:str) -> None:\n",
    "    if not os.path.isdir(folder_path):\n",
    "        raise ValueError(f\"The folder {folder_path} does not exist.\")\n",
    "    \n",
    "    with tarfile.open(output_tgz_path, \"w:gz\") as tar:\n",
    "        tar.add(folder_path, arcname=os.path.basename(folder_path))"
   ]
  },
  {
   "cell_type": "code",
   "execution_count": 26,
   "metadata": {},
   "outputs": [],
   "source": [
    "def extract_folder_from_tgz(tgz_path:str, target_folder:str, output_dir_path:str) -> None:\n",
    "    \"\"\"\n",
    "    Extract target folder from a .tgz file to output_dir_path\n",
    "\n",
    "    tgz_path: path to .tgz file\n",
    "    target_folder: relative path to folder inside .tgz file\n",
    "    output_dir_paht: path to compressed folder \n",
    "    \"\"\"\n",
    "\n",
    "    with tarfile.open(tgz_path, 'r:gz') as tar:\n",
    "        for member in tar.getmembers():\n",
    "            # print(member)\n",
    "            # Check if the member belongs to the target folder\n",
    "            if member.name.startswith(target_folder):\n",
    "                # Extract the member to the output directory\n",
    "                tar.extract(member, path=output_dir_path)"
   ]
  },
  {
   "cell_type": "code",
   "execution_count": 27,
   "metadata": {},
   "outputs": [],
   "source": [
    "def extract_folders_from_tgz(tgz_path:str, target_folders_dict:set, output_dir_path:str) -> None:\n",
    "    \"\"\"\n",
    "    Extract target folders from a .tgz file to given location\n",
    "\n",
    "    tgz_path: path to .tgz file\n",
    "    targets_folders_dict: dict (target_folder:species_name)\n",
    "    output_dir_paht: path to compressed folder \n",
    "    \"\"\"\n",
    "\n",
    "    with tarfile.open(tgz_path, 'r:gz') as tar:\n",
    "        for member in tar.getmembers():\n",
    "            # print(member)\n",
    "            # Check if the member belongs to the target folder\n",
    "            for target_folder in target_folders_dict:\n",
    "                if member.name.startswith(target_folder):\n",
    "                    # Extract the member to the output directory\n",
    "                    tar.extract(member, path=output_dir_path)"
   ]
  },
  {
   "cell_type": "code",
   "execution_count": 36,
   "metadata": {},
   "outputs": [],
   "source": [
    "def rename_and_compress_folder(folder_path:str, bird_latin_name:str) -> None:\n",
    "    \"\"\"\n",
    "    Rename extracted image folder to a proper name\n",
    "    Also rename images\n",
    "    Create an old_name, new_name table for each image\n",
    "    Finally compress folder\n",
    "    \n",
    "    Naming convention for folder is latin_name\n",
    "    naming convention for image is latin_name_imgNumber.jpg\n",
    "    \"\"\"\n",
    "    target_folder_location = os.path.dirname(folder_path)\n",
    "    \n",
    "    # rename images\n",
    "    files = Path(folder_path).glob(\"*.jpg\")\n",
    "    for index, filename in enumerate(files):\n",
    "        new_image_name = bird_latin_name + \"_\" + str(index) + \".jpg\"\n",
    "        new_image_path = os.path.join(folder_path, new_image_name)\n",
    "        os.rename(filename, new_image_path)\n",
    "\n",
    "    # rename folder\n",
    "    new_folder_path = os.path.join(target_folder_location, bird_latin_name)\n",
    "    os.rename(folder_path, new_folder_path)\n",
    "\n",
    "    # compress folder\n",
    "    gzip_folder(new_folder_path, new_folder_path + '.tgz')\n",
    "\n"
   ]
  },
  {
   "cell_type": "code",
   "execution_count": null,
   "metadata": {},
   "outputs": [],
   "source": []
  },
  {
   "cell_type": "code",
   "execution_count": 29,
   "metadata": {},
   "outputs": [
    {
     "data": {
      "text/html": [
       "<div>\n",
       "<style scoped>\n",
       "    .dataframe tbody tr th:only-of-type {\n",
       "        vertical-align: middle;\n",
       "    }\n",
       "\n",
       "    .dataframe tbody tr th {\n",
       "        vertical-align: top;\n",
       "    }\n",
       "\n",
       "    .dataframe thead th {\n",
       "        text-align: right;\n",
       "    }\n",
       "</style>\n",
       "<table border=\"1\" class=\"dataframe\">\n",
       "  <thead>\n",
       "    <tr style=\"text-align: right;\">\n",
       "      <th></th>\n",
       "      <th>Categorie</th>\n",
       "      <th>Ordre</th>\n",
       "      <th>Famille</th>\n",
       "      <th>Nom_EN</th>\n",
       "      <th>Nom_LT</th>\n",
       "      <th>Nom_FR</th>\n",
       "      <th>Url_EN</th>\n",
       "      <th>Url_FR</th>\n",
       "      <th>english_name_snake_case</th>\n",
       "      <th>latin_name_snake_case</th>\n",
       "      <th>bird_name</th>\n",
       "      <th>bird_name_raw</th>\n",
       "      <th>dataset_part</th>\n",
       "      <th>folder</th>\n",
       "      <th>nb_images</th>\n",
       "    </tr>\n",
       "  </thead>\n",
       "  <tbody>\n",
       "    <tr>\n",
       "      <th>0</th>\n",
       "      <td>Ducks, geese, and waterfowl</td>\n",
       "      <td>Anseriformes</td>\n",
       "      <td>Anatidae</td>\n",
       "      <td>Snow goose</td>\n",
       "      <td>Anser caerulescens</td>\n",
       "      <td>oie des neiges</td>\n",
       "      <td>https://en.wikipedia.org/wiki/Snow_goose</td>\n",
       "      <td>https://fr.wikipedia.org/wiki/Oie_des_neiges</td>\n",
       "      <td>snow_goose</td>\n",
       "      <td>anser_caerulescens</td>\n",
       "      <td>snow_goose</td>\n",
       "      <td>Snow Goose</td>\n",
       "      <td>DIB-10K_1</td>\n",
       "      <td>83.Snow Goose</td>\n",
       "      <td>1908</td>\n",
       "    </tr>\n",
       "    <tr>\n",
       "      <th>1</th>\n",
       "      <td>Ducks, geese, and waterfowl</td>\n",
       "      <td>Anseriformes</td>\n",
       "      <td>Anatidae</td>\n",
       "      <td>Greater white-fronted goose</td>\n",
       "      <td>Anser albifrons</td>\n",
       "      <td>oie rieuse</td>\n",
       "      <td>https://en.wikipedia.org/wiki/Greater_white-fr...</td>\n",
       "      <td>https://fr.wikipedia.org/wiki/Oie_rieuse</td>\n",
       "      <td>greater_white_fronted_goose</td>\n",
       "      <td>anser_albifrons</td>\n",
       "      <td>greater_white_fronted_goose</td>\n",
       "      <td>Greater White-fronted Goose</td>\n",
       "      <td>DIB-10K_2</td>\n",
       "      <td>89.Greater White-fronted Goose</td>\n",
       "      <td>2613</td>\n",
       "    </tr>\n",
       "  </tbody>\n",
       "</table>\n",
       "</div>"
      ],
      "text/plain": [
       "                     Categorie         Ordre   Famille  \\\n",
       "0  Ducks, geese, and waterfowl  Anseriformes  Anatidae   \n",
       "1  Ducks, geese, and waterfowl  Anseriformes  Anatidae   \n",
       "\n",
       "                        Nom_EN              Nom_LT          Nom_FR  \\\n",
       "0                   Snow goose  Anser caerulescens  oie des neiges   \n",
       "1  Greater white-fronted goose     Anser albifrons      oie rieuse   \n",
       "\n",
       "                                              Url_EN  \\\n",
       "0           https://en.wikipedia.org/wiki/Snow_goose   \n",
       "1  https://en.wikipedia.org/wiki/Greater_white-fr...   \n",
       "\n",
       "                                         Url_FR      english_name_snake_case  \\\n",
       "0  https://fr.wikipedia.org/wiki/Oie_des_neiges                   snow_goose   \n",
       "1      https://fr.wikipedia.org/wiki/Oie_rieuse  greater_white_fronted_goose   \n",
       "\n",
       "  latin_name_snake_case                    bird_name  \\\n",
       "0    anser_caerulescens                   snow_goose   \n",
       "1       anser_albifrons  greater_white_fronted_goose   \n",
       "\n",
       "                 bird_name_raw dataset_part                          folder  \\\n",
       "0                   Snow Goose    DIB-10K_1                   83.Snow Goose   \n",
       "1  Greater White-fronted Goose    DIB-10K_2  89.Greater White-fronted Goose   \n",
       "\n",
       "   nb_images  \n",
       "0       1908  \n",
       "1       2613  "
      ]
     },
     "execution_count": 29,
     "metadata": {},
     "output_type": "execute_result"
    }
   ],
   "source": [
    "french_bird_metadata_file = \"../../french_birds_metadata.csv\"\n",
    "french_bird_metadata = pd.read_csv(french_bird_metadata_file, sep=\";\", header=0)\n",
    "french_bird_metadata.head(2)"
   ]
  },
  {
   "cell_type": "code",
   "execution_count": 30,
   "metadata": {},
   "outputs": [
    {
     "data": {
      "text/plain": [
       "((546, 15), (541, 15))"
      ]
     },
     "execution_count": 30,
     "metadata": {},
     "output_type": "execute_result"
    }
   ],
   "source": [
    "french_bird_metadata_valid = get_valid_bird_data(french_bird_metadata, 100)\n",
    "french_bird_metadata.shape, french_bird_metadata_valid.shape"
   ]
  },
  {
   "cell_type": "code",
   "execution_count": 31,
   "metadata": {},
   "outputs": [
    {
     "data": {
      "text/plain": [
       "(50, 15)"
      ]
     },
     "execution_count": 31,
     "metadata": {},
     "output_type": "execute_result"
    }
   ],
   "source": [
    "top_birds_metadata = get_top_birds(french_bird_metadata_valid, 50)\n",
    "top_birds_metadata.shape"
   ]
  },
  {
   "cell_type": "code",
   "execution_count": 32,
   "metadata": {},
   "outputs": [],
   "source": [
    "# data_folder = '../raw_data/IDB'\n",
    "# folder = french_bird_metadata['folder'].iloc[16]\n",
    "# tgz_path = data_folder + '/' + french_bird_metadata['dataset_part'].iloc[16] + \".tgz\"\n",
    "\n",
    "# output_dir='test'\n",
    "# # os.mkdir(output_dir)\n",
    "# extract_folder_from_tgz(tgz_path, folder, output_dir)"
   ]
  },
  {
   "cell_type": "code",
   "execution_count": 38,
   "metadata": {},
   "outputs": [
    {
     "name": "stdout",
     "output_type": "stream",
     "text": [
      "DIB-10K_2\n",
      "extracting  109.Egyptian Goose\n",
      "renaming images and folder then compressing\n",
      "extracting  120.Ruddy Shelduck\n",
      "renaming images and folder then compressing\n",
      "extracting  94.Mute Swan\n",
      "renaming images and folder then compressing\n",
      "extracting  92.Black Swan\n",
      "renaming images and folder then compressing\n",
      "DIB-10K_9\n",
      "extracting  750.White Stork\n",
      "renaming images and folder then compressing\n",
      "extracting  745.Black Stork\n",
      "renaming images and folder then compressing\n",
      "extracting  758.African Sacred Ibis\n",
      "renaming images and folder then compressing\n",
      "DIB-10K_24\n",
      "extracting  1762.Common Tern\n",
      "renaming images and folder then compressing\n",
      "extracting  1764.Arctic Tern\n"
     ]
    },
    {
     "ename": "KeyboardInterrupt",
     "evalue": "",
     "output_type": "error",
     "traceback": [
      "\u001b[0;31m---------------------------------------------------------------------------\u001b[0m",
      "\u001b[0;31mKeyboardInterrupt\u001b[0m                         Traceback (most recent call last)",
      "Cell \u001b[0;32mIn[38], line 15\u001b[0m\n\u001b[1;32m     13\u001b[0m \u001b[38;5;28;01mfor\u001b[39;00m target_folder \u001b[38;5;129;01min\u001b[39;00m target_species_dict:\n\u001b[1;32m     14\u001b[0m     \u001b[38;5;28mprint\u001b[39m(\u001b[38;5;124m\"\u001b[39m\u001b[38;5;124mextracting \u001b[39m\u001b[38;5;124m\"\u001b[39m, target_folder)\n\u001b[0;32m---> 15\u001b[0m     \u001b[43mextract_folder_from_tgz\u001b[49m\u001b[43m(\u001b[49m\u001b[43mtgz_path\u001b[49m\u001b[43m,\u001b[49m\u001b[43m \u001b[49m\u001b[43mtarget_folder\u001b[49m\u001b[43m,\u001b[49m\u001b[43m \u001b[49m\u001b[43moutput_dir\u001b[49m\u001b[43m)\u001b[49m\n\u001b[1;32m     16\u001b[0m     extracted_folder \u001b[38;5;241m=\u001b[39m os\u001b[38;5;241m.\u001b[39mpath\u001b[38;5;241m.\u001b[39mjoin(output_dir, target_folder)\n\u001b[1;32m     17\u001b[0m     \u001b[38;5;28mprint\u001b[39m(\u001b[38;5;124m\"\u001b[39m\u001b[38;5;124mrenaming images and folder then compressing\u001b[39m\u001b[38;5;124m\"\u001b[39m)\n",
      "Cell \u001b[0;32mIn[26], line 11\u001b[0m, in \u001b[0;36mextract_folder_from_tgz\u001b[0;34m(tgz_path, target_folder, output_dir_path)\u001b[0m\n\u001b[1;32m      2\u001b[0m \u001b[38;5;250m\u001b[39m\u001b[38;5;124;03m\"\"\"\u001b[39;00m\n\u001b[1;32m      3\u001b[0m \u001b[38;5;124;03mExtract target folder from a .tgz file to output_dir_path\u001b[39;00m\n\u001b[1;32m      4\u001b[0m \n\u001b[0;32m   (...)\u001b[0m\n\u001b[1;32m      7\u001b[0m \u001b[38;5;124;03moutput_dir_paht: path to compressed folder \u001b[39;00m\n\u001b[1;32m      8\u001b[0m \u001b[38;5;124;03m\"\"\"\u001b[39;00m\n\u001b[1;32m     10\u001b[0m \u001b[38;5;28;01mwith\u001b[39;00m tarfile\u001b[38;5;241m.\u001b[39mopen(tgz_path, \u001b[38;5;124m'\u001b[39m\u001b[38;5;124mr:gz\u001b[39m\u001b[38;5;124m'\u001b[39m) \u001b[38;5;28;01mas\u001b[39;00m tar:\n\u001b[0;32m---> 11\u001b[0m     \u001b[38;5;28;01mfor\u001b[39;00m member \u001b[38;5;129;01min\u001b[39;00m \u001b[43mtar\u001b[49m\u001b[38;5;241;43m.\u001b[39;49m\u001b[43mgetmembers\u001b[49m\u001b[43m(\u001b[49m\u001b[43m)\u001b[49m:\n\u001b[1;32m     12\u001b[0m         \u001b[38;5;66;03m# print(member)\u001b[39;00m\n\u001b[1;32m     13\u001b[0m         \u001b[38;5;66;03m# Check if the member belongs to the target folder\u001b[39;00m\n\u001b[1;32m     14\u001b[0m         \u001b[38;5;28;01mif\u001b[39;00m member\u001b[38;5;241m.\u001b[39mname\u001b[38;5;241m.\u001b[39mstartswith(target_folder):\n\u001b[1;32m     15\u001b[0m             \u001b[38;5;66;03m# Extract the member to the output directory\u001b[39;00m\n\u001b[1;32m     16\u001b[0m             tar\u001b[38;5;241m.\u001b[39mextract(member, path\u001b[38;5;241m=\u001b[39moutput_dir_path)\n",
      "File \u001b[0;32m~/.pyenv/versions/3.10.12/lib/python3.10/tarfile.py:1987\u001b[0m, in \u001b[0;36mTarFile.getmembers\u001b[0;34m(self)\u001b[0m\n\u001b[1;32m   1985\u001b[0m \u001b[38;5;28mself\u001b[39m\u001b[38;5;241m.\u001b[39m_check()\n\u001b[1;32m   1986\u001b[0m \u001b[38;5;28;01mif\u001b[39;00m \u001b[38;5;129;01mnot\u001b[39;00m \u001b[38;5;28mself\u001b[39m\u001b[38;5;241m.\u001b[39m_loaded:    \u001b[38;5;66;03m# if we want to obtain a list of\u001b[39;00m\n\u001b[0;32m-> 1987\u001b[0m     \u001b[38;5;28;43mself\u001b[39;49m\u001b[38;5;241;43m.\u001b[39;49m\u001b[43m_load\u001b[49m\u001b[43m(\u001b[49m\u001b[43m)\u001b[49m        \u001b[38;5;66;03m# all members, we first have to\u001b[39;00m\n\u001b[1;32m   1988\u001b[0m                         \u001b[38;5;66;03m# scan the whole archive.\u001b[39;00m\n\u001b[1;32m   1989\u001b[0m \u001b[38;5;28;01mreturn\u001b[39;00m \u001b[38;5;28mself\u001b[39m\u001b[38;5;241m.\u001b[39mmembers\n",
      "File \u001b[0;32m~/.pyenv/versions/3.10.12/lib/python3.10/tarfile.py:2682\u001b[0m, in \u001b[0;36mTarFile._load\u001b[0;34m(self)\u001b[0m\n\u001b[1;32m   2678\u001b[0m \u001b[38;5;250m\u001b[39m\u001b[38;5;124;03m\"\"\"Read through the entire archive file and look for readable\u001b[39;00m\n\u001b[1;32m   2679\u001b[0m \u001b[38;5;124;03m   members.\u001b[39;00m\n\u001b[1;32m   2680\u001b[0m \u001b[38;5;124;03m\"\"\"\u001b[39;00m\n\u001b[1;32m   2681\u001b[0m \u001b[38;5;28;01mwhile\u001b[39;00m \u001b[38;5;28;01mTrue\u001b[39;00m:\n\u001b[0;32m-> 2682\u001b[0m     tarinfo \u001b[38;5;241m=\u001b[39m \u001b[38;5;28;43mself\u001b[39;49m\u001b[38;5;241;43m.\u001b[39;49m\u001b[43mnext\u001b[49m\u001b[43m(\u001b[49m\u001b[43m)\u001b[49m\n\u001b[1;32m   2683\u001b[0m     \u001b[38;5;28;01mif\u001b[39;00m tarinfo \u001b[38;5;129;01mis\u001b[39;00m \u001b[38;5;28;01mNone\u001b[39;00m:\n\u001b[1;32m   2684\u001b[0m         \u001b[38;5;28;01mbreak\u001b[39;00m\n",
      "File \u001b[0;32m~/.pyenv/versions/3.10.12/lib/python3.10/tarfile.py:2587\u001b[0m, in \u001b[0;36mTarFile.next\u001b[0;34m(self)\u001b[0m\n\u001b[1;32m   2585\u001b[0m \u001b[38;5;66;03m# Advance the file pointer.\u001b[39;00m\n\u001b[1;32m   2586\u001b[0m \u001b[38;5;28;01mif\u001b[39;00m \u001b[38;5;28mself\u001b[39m\u001b[38;5;241m.\u001b[39moffset \u001b[38;5;241m!=\u001b[39m \u001b[38;5;28mself\u001b[39m\u001b[38;5;241m.\u001b[39mfileobj\u001b[38;5;241m.\u001b[39mtell():\n\u001b[0;32m-> 2587\u001b[0m     \u001b[38;5;28;43mself\u001b[39;49m\u001b[38;5;241;43m.\u001b[39;49m\u001b[43mfileobj\u001b[49m\u001b[38;5;241;43m.\u001b[39;49m\u001b[43mseek\u001b[49m\u001b[43m(\u001b[49m\u001b[38;5;28;43mself\u001b[39;49m\u001b[38;5;241;43m.\u001b[39;49m\u001b[43moffset\u001b[49m\u001b[43m \u001b[49m\u001b[38;5;241;43m-\u001b[39;49m\u001b[43m \u001b[49m\u001b[38;5;241;43m1\u001b[39;49m\u001b[43m)\u001b[49m\n\u001b[1;32m   2588\u001b[0m     \u001b[38;5;28;01mif\u001b[39;00m \u001b[38;5;129;01mnot\u001b[39;00m \u001b[38;5;28mself\u001b[39m\u001b[38;5;241m.\u001b[39mfileobj\u001b[38;5;241m.\u001b[39mread(\u001b[38;5;241m1\u001b[39m):\n\u001b[1;32m   2589\u001b[0m         \u001b[38;5;28;01mraise\u001b[39;00m ReadError(\u001b[38;5;124m\"\u001b[39m\u001b[38;5;124munexpected end of data\u001b[39m\u001b[38;5;124m\"\u001b[39m)\n",
      "File \u001b[0;32m~/.pyenv/versions/3.10.12/lib/python3.10/gzip.py:393\u001b[0m, in \u001b[0;36mGzipFile.seek\u001b[0;34m(self, offset, whence)\u001b[0m\n\u001b[1;32m    391\u001b[0m \u001b[38;5;28;01melif\u001b[39;00m \u001b[38;5;28mself\u001b[39m\u001b[38;5;241m.\u001b[39mmode \u001b[38;5;241m==\u001b[39m READ:\n\u001b[1;32m    392\u001b[0m     \u001b[38;5;28mself\u001b[39m\u001b[38;5;241m.\u001b[39m_check_not_closed()\n\u001b[0;32m--> 393\u001b[0m     \u001b[38;5;28;01mreturn\u001b[39;00m \u001b[38;5;28;43mself\u001b[39;49m\u001b[38;5;241;43m.\u001b[39;49m\u001b[43m_buffer\u001b[49m\u001b[38;5;241;43m.\u001b[39;49m\u001b[43mseek\u001b[49m\u001b[43m(\u001b[49m\u001b[43moffset\u001b[49m\u001b[43m,\u001b[49m\u001b[43m \u001b[49m\u001b[43mwhence\u001b[49m\u001b[43m)\u001b[49m\n\u001b[1;32m    395\u001b[0m \u001b[38;5;28;01mreturn\u001b[39;00m \u001b[38;5;28mself\u001b[39m\u001b[38;5;241m.\u001b[39moffset\n",
      "File \u001b[0;32m~/.pyenv/versions/3.10.12/lib/python3.10/_compression.py:153\u001b[0m, in \u001b[0;36mDecompressReader.seek\u001b[0;34m(self, offset, whence)\u001b[0m\n\u001b[1;32m    151\u001b[0m \u001b[38;5;66;03m# Read and discard data until we reach the desired position.\u001b[39;00m\n\u001b[1;32m    152\u001b[0m \u001b[38;5;28;01mwhile\u001b[39;00m offset \u001b[38;5;241m>\u001b[39m \u001b[38;5;241m0\u001b[39m:\n\u001b[0;32m--> 153\u001b[0m     data \u001b[38;5;241m=\u001b[39m \u001b[38;5;28;43mself\u001b[39;49m\u001b[38;5;241;43m.\u001b[39;49m\u001b[43mread\u001b[49m\u001b[43m(\u001b[49m\u001b[38;5;28;43mmin\u001b[39;49m\u001b[43m(\u001b[49m\u001b[43mio\u001b[49m\u001b[38;5;241;43m.\u001b[39;49m\u001b[43mDEFAULT_BUFFER_SIZE\u001b[49m\u001b[43m,\u001b[49m\u001b[43m \u001b[49m\u001b[43moffset\u001b[49m\u001b[43m)\u001b[49m\u001b[43m)\u001b[49m\n\u001b[1;32m    154\u001b[0m     \u001b[38;5;28;01mif\u001b[39;00m \u001b[38;5;129;01mnot\u001b[39;00m data:\n\u001b[1;32m    155\u001b[0m         \u001b[38;5;28;01mbreak\u001b[39;00m\n",
      "File \u001b[0;32m~/.pyenv/versions/3.10.12/lib/python3.10/gzip.py:496\u001b[0m, in \u001b[0;36m_GzipReader.read\u001b[0;34m(self, size)\u001b[0m\n\u001b[1;32m    493\u001b[0m \u001b[38;5;66;03m# Read a chunk of data from the file\u001b[39;00m\n\u001b[1;32m    494\u001b[0m buf \u001b[38;5;241m=\u001b[39m \u001b[38;5;28mself\u001b[39m\u001b[38;5;241m.\u001b[39m_fp\u001b[38;5;241m.\u001b[39mread(io\u001b[38;5;241m.\u001b[39mDEFAULT_BUFFER_SIZE)\n\u001b[0;32m--> 496\u001b[0m uncompress \u001b[38;5;241m=\u001b[39m \u001b[38;5;28;43mself\u001b[39;49m\u001b[38;5;241;43m.\u001b[39;49m\u001b[43m_decompressor\u001b[49m\u001b[38;5;241;43m.\u001b[39;49m\u001b[43mdecompress\u001b[49m\u001b[43m(\u001b[49m\u001b[43mbuf\u001b[49m\u001b[43m,\u001b[49m\u001b[43m \u001b[49m\u001b[43msize\u001b[49m\u001b[43m)\u001b[49m\n\u001b[1;32m    497\u001b[0m \u001b[38;5;28;01mif\u001b[39;00m \u001b[38;5;28mself\u001b[39m\u001b[38;5;241m.\u001b[39m_decompressor\u001b[38;5;241m.\u001b[39munconsumed_tail \u001b[38;5;241m!=\u001b[39m \u001b[38;5;124mb\u001b[39m\u001b[38;5;124m\"\u001b[39m\u001b[38;5;124m\"\u001b[39m:\n\u001b[1;32m    498\u001b[0m     \u001b[38;5;28mself\u001b[39m\u001b[38;5;241m.\u001b[39m_fp\u001b[38;5;241m.\u001b[39mprepend(\u001b[38;5;28mself\u001b[39m\u001b[38;5;241m.\u001b[39m_decompressor\u001b[38;5;241m.\u001b[39munconsumed_tail)\n",
      "\u001b[0;31mKeyboardInterrupt\u001b[0m: "
     ]
    }
   ],
   "source": [
    "dataset_parts = list(top_birds_metadata['dataset_part'].unique())\n",
    "output_dir='../french_bird_db'\n",
    "data_folder = '../raw_data/IDB'\n",
    "\n",
    "# for each dataset part, list folder that need to be retrieved and do it\n",
    "for dataset_part in dataset_parts:\n",
    "    print(dataset_part)\n",
    "    sub_bird_df = top_birds_metadata.loc[top_birds_metadata['dataset_part'] == dataset_part]\n",
    "    target_species_dict = dict(zip(sub_bird_df['folder'], sub_bird_df['english_name_snake_case']))\n",
    "    folder2latin_dict = dict(zip(sub_bird_df['folder'], sub_bird_df['latin_name_snake_case']))\n",
    "    tgz_path = data_folder + '/' + dataset_part + \".tgz\"\n",
    "\n",
    "    for target_folder in target_species_dict:\n",
    "        print(\"extracting \", target_folder)\n",
    "        extract_folder_from_tgz(tgz_path, target_folder, output_dir)\n",
    "        extracted_folder = os.path.join(output_dir, target_folder)\n",
    "        print(\"renaming images and folder then compressing\")\n",
    "        rename_and_compress_folder(extracted_folder, folder2latin_dict[target_folder])"
   ]
  },
  {
   "cell_type": "code",
   "execution_count": 37,
   "metadata": {},
   "outputs": [
    {
     "name": "stdout",
     "output_type": "stream",
     "text": [
      "extracting  109.Egyptian Goose\n",
      "renaming images and folder then compressing\n"
     ]
    },
    {
     "ename": "OSError",
     "evalue": "[Errno 39] Directory not empty: '../french_bird_db/109.Egyptian Goose' -> '../french_bird_db/alopochen_aegyptiaca'",
     "output_type": "error",
     "traceback": [
      "\u001b[0;31m---------------------------------------------------------------------------\u001b[0m",
      "\u001b[0;31mOSError\u001b[0m                                   Traceback (most recent call last)",
      "Cell \u001b[0;32mIn[37], line 18\u001b[0m\n\u001b[1;32m     16\u001b[0m     extracted_folder \u001b[38;5;241m=\u001b[39m os\u001b[38;5;241m.\u001b[39mpath\u001b[38;5;241m.\u001b[39mjoin(output_dir, target_folder)\n\u001b[1;32m     17\u001b[0m     \u001b[38;5;28mprint\u001b[39m(\u001b[38;5;124m\"\u001b[39m\u001b[38;5;124mrenaming images and folder then compressing\u001b[39m\u001b[38;5;124m\"\u001b[39m)\n\u001b[0;32m---> 18\u001b[0m     \u001b[43mrename_and_compress_folder\u001b[49m\u001b[43m(\u001b[49m\u001b[43mextracted_folder\u001b[49m\u001b[43m,\u001b[49m\u001b[43m \u001b[49m\u001b[43mfolder2latin_dict\u001b[49m\u001b[43m[\u001b[49m\u001b[43mtarget_folder\u001b[49m\u001b[43m]\u001b[49m\u001b[43m)\u001b[49m\n\u001b[1;32m     19\u001b[0m \u001b[38;5;66;03m# extract_folders_from_tgz(tgz_path, target_species_dict, output_dir)\u001b[39;00m\n",
      "Cell \u001b[0;32mIn[36], line 22\u001b[0m, in \u001b[0;36mrename_and_compress_folder\u001b[0;34m(folder_path, bird_latin_name)\u001b[0m\n\u001b[1;32m     20\u001b[0m \u001b[38;5;66;03m# rename folder\u001b[39;00m\n\u001b[1;32m     21\u001b[0m new_folder_path \u001b[38;5;241m=\u001b[39m os\u001b[38;5;241m.\u001b[39mpath\u001b[38;5;241m.\u001b[39mjoin(target_folder_location, bird_latin_name)\n\u001b[0;32m---> 22\u001b[0m \u001b[43mos\u001b[49m\u001b[38;5;241;43m.\u001b[39;49m\u001b[43mrename\u001b[49m\u001b[43m(\u001b[49m\u001b[43mfolder_path\u001b[49m\u001b[43m,\u001b[49m\u001b[43m \u001b[49m\u001b[43mnew_folder_path\u001b[49m\u001b[43m)\u001b[49m\n\u001b[1;32m     24\u001b[0m \u001b[38;5;66;03m# compress folder\u001b[39;00m\n\u001b[1;32m     25\u001b[0m gzip_folder(new_folder_path, new_folder_path \u001b[38;5;241m+\u001b[39m \u001b[38;5;124m'\u001b[39m\u001b[38;5;124m.tgz\u001b[39m\u001b[38;5;124m'\u001b[39m)\n",
      "\u001b[0;31mOSError\u001b[0m: [Errno 39] Directory not empty: '../french_bird_db/109.Egyptian Goose' -> '../french_bird_db/alopochen_aegyptiaca'"
     ]
    }
   ],
   "source": [
    "dataset_parts = list(top_birds_metadata['dataset_part'].unique())\n",
    "output_dir='../french_bird_db'\n",
    "data_folder = '../raw_data/IDB'\n",
    "\n",
    "# for each dataset part, list folder that need to be retrieved and do it\n",
    "dataset_part = dataset_parts[0]\n",
    "\n",
    "sub_bird_df = top_birds_metadata.loc[top_birds_metadata['dataset_part'] == dataset_part]\n",
    "target_species_dict = dict(zip(sub_bird_df['folder'], sub_bird_df['english_name_snake_case']))\n",
    "folder2latin_dict = dict(zip(sub_bird_df['folder'], sub_bird_df['latin_name_snake_case']))\n",
    "tgz_path = data_folder + '/' + dataset_part + \".tgz\"\n",
    "\n",
    "for target_folder in target_species_dict:\n",
    "    print(\"extracting \", target_folder)\n",
    "    extract_folder_from_tgz(tgz_path, target_folder, output_dir)\n",
    "    extracted_folder = os.path.join(output_dir, target_folder)\n",
    "    print(\"renaming images and folder then compressing\")\n",
    "    rename_and_compress_folder(extracted_folder, folder2latin_dict[target_folder])\n",
    "# extract_folders_from_tgz(tgz_path, target_species_dict, output_dir)"
   ]
  },
  {
   "cell_type": "code",
   "execution_count": null,
   "metadata": {},
   "outputs": [],
   "source": [
    "# compress all images into a tgz file"
   ]
  }
 ],
 "metadata": {
  "kernelspec": {
   "display_name": "artefact",
   "language": "python",
   "name": "python3"
  },
  "language_info": {
   "codemirror_mode": {
    "name": "ipython",
    "version": 3
   },
   "file_extension": ".py",
   "mimetype": "text/x-python",
   "name": "python",
   "nbconvert_exporter": "python",
   "pygments_lexer": "ipython3",
   "version": "3.10.12"
  }
 },
 "nbformat": 4,
 "nbformat_minor": 2
}
