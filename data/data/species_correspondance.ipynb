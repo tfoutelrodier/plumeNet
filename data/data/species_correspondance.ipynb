{
 "cells": [
  {
   "cell_type": "markdown",
   "metadata": {},
   "source": [
    "### Make a correspondance between french bird data scrapped and species in database"
   ]
  },
  {
   "cell_type": "code",
   "execution_count": 16,
   "metadata": {},
   "outputs": [],
   "source": [
    "import numpy as np\n",
    "import pandas as pd\n",
    "from nltk import edit_distance"
   ]
  },
  {
   "cell_type": "code",
   "execution_count": 17,
   "metadata": {},
   "outputs": [],
   "source": [
    "def snakify_bird_name(name:str) -> str:\n",
    "    '''\n",
    "    change name to snkae case format\n",
    "    - remove leading and trailing blanks\n",
    "    - lower all char\n",
    "    - replace \" \" and \"-\" by \"_\"\n",
    "    - remove \"'\"\n",
    "    '''\n",
    "    snake_name = name.strip().lower().replace(\" \", \"_\").replace(\"-\", \"_\").replace(\"'\", \"\")\n",
    "    return snake_name"
   ]
  },
  {
   "cell_type": "code",
   "execution_count": 18,
   "metadata": {},
   "outputs": [],
   "source": [
    "def find_closest_bird(bird_name:str, bird_lst:[str, ...]) -> (int, [str, ...]):\n",
    "    \"\"\"\n",
    "    Find closest str to bird_name in bird_lst\n",
    "    Distance is leveinstein distance\n",
    "\n",
    "    Returns min_dist (int) and min_birds ([str, ...])\n",
    "    \"\"\"\n",
    "    min_dist = len(bird_name)\n",
    "    min_birds = []\n",
    "    for other_bird in bird_lst:\n",
    "        name_dist = edit_distance(bird_name, other_bird)\n",
    "        if name_dist < min_dist:\n",
    "            min_dist = name_dist\n",
    "            min_birds = [other_bird]\n",
    "        elif name_dist == min_dist:\n",
    "            min_birds.append(other_bird)\n",
    "    \n",
    "    return min_dist, min_birds"
   ]
  },
  {
   "cell_type": "markdown",
   "metadata": {},
   "source": [
    "### load databases"
   ]
  },
  {
   "cell_type": "code",
   "execution_count": 19,
   "metadata": {},
   "outputs": [],
   "source": [
    "# load database\n",
    "database_file = \"all_DIB_image_data.csv\"\n",
    "scrapped_data_file = \"../../src/french_bird_wiki.csv\"\n",
    "merge_data_file = \"../../french_birds_metadata.csv\"\n",
    "missing_birds_data_file = \"../../missing_french_birds_data.csv\"\n",
    "\n",
    "database_df = pd.read_csv(database_file, header=0)\n",
    "french_bird_df = pd.read_csv(scrapped_data_file, header=0, sep=\";\")  "
   ]
  },
  {
   "cell_type": "markdown",
   "metadata": {},
   "source": [
    "### world birds database preprocessing"
   ]
  },
  {
   "cell_type": "code",
   "execution_count": 20,
   "metadata": {},
   "outputs": [],
   "source": [
    "# there are exactly 70 Na values, one for each file. Need to revisit a bit the world metadata gathering to check on them\n",
    "database_df = database_df.dropna()\n"
   ]
  },
  {
   "cell_type": "markdown",
   "metadata": {},
   "source": [
    "### french bird data preprocessing"
   ]
  },
  {
   "cell_type": "code",
   "execution_count": 21,
   "metadata": {},
   "outputs": [],
   "source": [
    "french_bird_df['english_name_snake_case'] = french_bird_df['Nom_EN'].apply(snakify_bird_name)\n",
    "french_bird_df['latin_name_snake_case'] = french_bird_df['Nom_LT'].apply(snakify_bird_name)\n"
   ]
  },
  {
   "cell_type": "markdown",
   "metadata": {},
   "source": [
    "### Species list prepration"
   ]
  },
  {
   "cell_type": "code",
   "execution_count": 22,
   "metadata": {},
   "outputs": [],
   "source": [
    "database_bird_lst = database_df['bird_name'].to_list()"
   ]
  },
  {
   "cell_type": "markdown",
   "metadata": {},
   "source": [
    "### merge dataset and save"
   ]
  },
  {
   "cell_type": "code",
   "execution_count": 23,
   "metadata": {},
   "outputs": [],
   "source": [
    "merge_df = pd.merge(french_bird_df, database_df, how='inner', left_on='english_name_snake_case', right_on='bird_name')\n",
    "merge_df.head()\n",
    "\n",
    "merge_df.to_csv(merge_data_file, sep=\";\", header=True, index=False)"
   ]
  },
  {
   "cell_type": "markdown",
   "metadata": {},
   "source": [
    "### Missing birds analysis"
   ]
  },
  {
   "cell_type": "code",
   "execution_count": 24,
   "metadata": {},
   "outputs": [],
   "source": [
    "# sanity check that there is no duplicated bird\n",
    "french_birds_dict = dict(zip(french_bird_df['english_name_snake_case'], [0] * french_bird_df.shape[0]))\n",
    "\n",
    "for bird in database_df['bird_name']:\n",
    "    if bird in french_birds_dict:\n",
    "        french_birds_dict[bird] = french_birds_dict[bird] + 1"
   ]
  },
  {
   "cell_type": "code",
   "execution_count": 25,
   "metadata": {},
   "outputs": [
    {
     "data": {
      "text/plain": [
       "count\n",
       "1    546\n",
       "0     76\n",
       "Name: count, dtype: int64"
      ]
     },
     "execution_count": 25,
     "metadata": {},
     "output_type": "execute_result"
    }
   ],
   "source": [
    "count_df = pd.DataFrame([{\"species\":key, \"count\":value} for key, value in french_birds_dict.items()])\n",
    "count_df['count'].value_counts()"
   ]
  },
  {
   "cell_type": "code",
   "execution_count": 26,
   "metadata": {},
   "outputs": [],
   "source": [
    "missing_birds = count_df.loc[count_df['count']==0, ['species']].species.to_list()"
   ]
  },
  {
   "cell_type": "code",
   "execution_count": 27,
   "metadata": {},
   "outputs": [
    {
     "ename": "KeyboardInterrupt",
     "evalue": "",
     "output_type": "error",
     "traceback": [
      "\u001b[0;31m---------------------------------------------------------------------------\u001b[0m",
      "\u001b[0;31mKeyboardInterrupt\u001b[0m                         Traceback (most recent call last)",
      "Cell \u001b[0;32mIn[27], line 3\u001b[0m\n\u001b[1;32m      1\u001b[0m missing_french_birds \u001b[38;5;241m=\u001b[39m [] \n\u001b[1;32m      2\u001b[0m \u001b[38;5;28;01mfor\u001b[39;00m bird \u001b[38;5;129;01min\u001b[39;00m missing_birds:\n\u001b[0;32m----> 3\u001b[0m     min_dist, min_birds \u001b[38;5;241m=\u001b[39m \u001b[43mfind_closest_bird\u001b[49m\u001b[43m(\u001b[49m\u001b[43mbird\u001b[49m\u001b[43m,\u001b[49m\u001b[43m \u001b[49m\u001b[43mdatabase_bird_lst\u001b[49m\u001b[43m)\u001b[49m\n\u001b[1;32m      4\u001b[0m     missing_bird_dict \u001b[38;5;241m=\u001b[39m {\n\u001b[1;32m      5\u001b[0m         \u001b[38;5;124m'\u001b[39m\u001b[38;5;124mmissing_french_bird_name\u001b[39m\u001b[38;5;124m'\u001b[39m:bird,\n\u001b[1;32m      6\u001b[0m         \u001b[38;5;124m'\u001b[39m\u001b[38;5;124mmin_distance_to_world_bird\u001b[39m\u001b[38;5;124m'\u001b[39m:min_dist,\n\u001b[1;32m      7\u001b[0m         \u001b[38;5;124m'\u001b[39m\u001b[38;5;124mworld_birds_with_min_dist\u001b[39m\u001b[38;5;124m'\u001b[39m:\u001b[38;5;124m'\u001b[39m\u001b[38;5;124m;\u001b[39m\u001b[38;5;124m'\u001b[39m\u001b[38;5;241m.\u001b[39mjoin(min_birds)\n\u001b[1;32m      8\u001b[0m     }\n\u001b[1;32m      9\u001b[0m     missing_french_birds\u001b[38;5;241m.\u001b[39mappend(missing_bird_dict)\n",
      "Cell \u001b[0;32mIn[18], line 11\u001b[0m, in \u001b[0;36mfind_closest_bird\u001b[0;34m(bird_name, bird_lst)\u001b[0m\n\u001b[1;32m      9\u001b[0m min_birds \u001b[38;5;241m=\u001b[39m []\n\u001b[1;32m     10\u001b[0m \u001b[38;5;28;01mfor\u001b[39;00m other_bird \u001b[38;5;129;01min\u001b[39;00m bird_lst:\n\u001b[0;32m---> 11\u001b[0m     name_dist \u001b[38;5;241m=\u001b[39m \u001b[43medit_distance\u001b[49m\u001b[43m(\u001b[49m\u001b[43mbird_name\u001b[49m\u001b[43m,\u001b[49m\u001b[43m \u001b[49m\u001b[43mother_bird\u001b[49m\u001b[43m)\u001b[49m\n\u001b[1;32m     12\u001b[0m     \u001b[38;5;28;01mif\u001b[39;00m name_dist \u001b[38;5;241m<\u001b[39m min_dist:\n\u001b[1;32m     13\u001b[0m         min_dist \u001b[38;5;241m=\u001b[39m name_dist\n",
      "File \u001b[0;32m~/code/plumeNet/.venv/lib/python3.10/site-packages/nltk/metrics/distance.py:111\u001b[0m, in \u001b[0;36medit_distance\u001b[0;34m(s1, s2, substitution_cost, transpositions)\u001b[0m\n\u001b[1;32m    109\u001b[0m         \u001b[38;5;28;01mif\u001b[39;00m s1[i \u001b[38;5;241m-\u001b[39m \u001b[38;5;241m1\u001b[39m] \u001b[38;5;241m==\u001b[39m s2[j \u001b[38;5;241m-\u001b[39m \u001b[38;5;241m1\u001b[39m]:\n\u001b[1;32m    110\u001b[0m             last_right_buf \u001b[38;5;241m=\u001b[39m j\n\u001b[0;32m--> 111\u001b[0m         \u001b[43m_edit_dist_step\u001b[49m\u001b[43m(\u001b[49m\n\u001b[1;32m    112\u001b[0m \u001b[43m            \u001b[49m\u001b[43mlev\u001b[49m\u001b[43m,\u001b[49m\n\u001b[1;32m    113\u001b[0m \u001b[43m            \u001b[49m\u001b[43mi\u001b[49m\u001b[43m,\u001b[49m\n\u001b[1;32m    114\u001b[0m \u001b[43m            \u001b[49m\u001b[43mj\u001b[49m\u001b[43m,\u001b[49m\n\u001b[1;32m    115\u001b[0m \u001b[43m            \u001b[49m\u001b[43ms1\u001b[49m\u001b[43m,\u001b[49m\n\u001b[1;32m    116\u001b[0m \u001b[43m            \u001b[49m\u001b[43ms2\u001b[49m\u001b[43m,\u001b[49m\n\u001b[1;32m    117\u001b[0m \u001b[43m            \u001b[49m\u001b[43mlast_left\u001b[49m\u001b[43m,\u001b[49m\n\u001b[1;32m    118\u001b[0m \u001b[43m            \u001b[49m\u001b[43mlast_right\u001b[49m\u001b[43m,\u001b[49m\n\u001b[1;32m    119\u001b[0m \u001b[43m            \u001b[49m\u001b[43msubstitution_cost\u001b[49m\u001b[38;5;241;43m=\u001b[39;49m\u001b[43msubstitution_cost\u001b[49m\u001b[43m,\u001b[49m\n\u001b[1;32m    120\u001b[0m \u001b[43m            \u001b[49m\u001b[43mtranspositions\u001b[49m\u001b[38;5;241;43m=\u001b[39;49m\u001b[43mtranspositions\u001b[49m\u001b[43m,\u001b[49m\n\u001b[1;32m    121\u001b[0m \u001b[43m        \u001b[49m\u001b[43m)\u001b[49m\n\u001b[1;32m    122\u001b[0m     last_left_t[s1[i \u001b[38;5;241m-\u001b[39m \u001b[38;5;241m1\u001b[39m]] \u001b[38;5;241m=\u001b[39m i\n\u001b[1;32m    123\u001b[0m \u001b[38;5;28;01mreturn\u001b[39;00m lev[len1][len2]\n",
      "File \u001b[0;32m~/code/plumeNet/.venv/lib/python3.10/site-packages/nltk/metrics/distance.py:41\u001b[0m, in \u001b[0;36m_edit_dist_step\u001b[0;34m(lev, i, j, s1, s2, last_left, last_right, substitution_cost, transpositions)\u001b[0m\n\u001b[1;32m     37\u001b[0m \u001b[38;5;28;01mdef\u001b[39;00m \u001b[38;5;21m_last_left_t_init\u001b[39m(sigma):\n\u001b[1;32m     38\u001b[0m     \u001b[38;5;28;01mreturn\u001b[39;00m {c: \u001b[38;5;241m0\u001b[39m \u001b[38;5;28;01mfor\u001b[39;00m c \u001b[38;5;129;01min\u001b[39;00m sigma}\n\u001b[0;32m---> 41\u001b[0m \u001b[38;5;28;01mdef\u001b[39;00m \u001b[38;5;21m_edit_dist_step\u001b[39m(\n\u001b[1;32m     42\u001b[0m     lev, i, j, s1, s2, last_left, last_right, substitution_cost\u001b[38;5;241m=\u001b[39m\u001b[38;5;241m1\u001b[39m, transpositions\u001b[38;5;241m=\u001b[39m\u001b[38;5;28;01mFalse\u001b[39;00m\n\u001b[1;32m     43\u001b[0m ):\n\u001b[1;32m     44\u001b[0m     c1 \u001b[38;5;241m=\u001b[39m s1[i \u001b[38;5;241m-\u001b[39m \u001b[38;5;241m1\u001b[39m]\n\u001b[1;32m     45\u001b[0m     c2 \u001b[38;5;241m=\u001b[39m s2[j \u001b[38;5;241m-\u001b[39m \u001b[38;5;241m1\u001b[39m]\n",
      "\u001b[0;31mKeyboardInterrupt\u001b[0m: "
     ]
    }
   ],
   "source": [
    "missing_french_birds = [] \n",
    "for bird in missing_birds:\n",
    "    min_dist, min_birds = find_closest_bird(bird, database_bird_lst)\n",
    "    missing_bird_dict = {\n",
    "        'missing_french_bird_name':bird,\n",
    "        'min_distance_to_world_bird':min_dist,\n",
    "        'world_birds_with_min_dist':';'.join(min_birds)\n",
    "    }\n",
    "    missing_french_birds.append(missing_bird_dict)\n",
    "\n",
    "missing_birds_data_df = pd.DataFrame(missing_french_birds)\n",
    "missing_birds_data_df.head()\n"
   ]
  },
  {
   "cell_type": "code",
   "execution_count": null,
   "metadata": {},
   "outputs": [],
   "source": [
    "# save documents\n",
    "\n",
    "missing_birds_data_df.to_csv(missing_birds_data_file, header=True, index=False, sep=\",\")"
   ]
  },
  {
   "cell_type": "code",
   "execution_count": null,
   "metadata": {},
   "outputs": [],
   "source": [
    "name_correspondance_dict = {\n",
    "    'graylag_goose':'greylag_goose',\n",
    "    'gray_partridge':'gray_partridge',\n",
    "    'marbled_teal':'marbled_duck',\n",
    "    \n",
    "\n",
    "}"
   ]
  },
  {
   "cell_type": "code",
   "execution_count": null,
   "metadata": {},
   "outputs": [],
   "source": [
    "alternative_names_dict = {\n",
    "    'brant':['brent_goose'],\n",
    "    'black_goose': ['northern_black_grouse', 'eurasian_black_grouse', 'blackgame', 'blackcock'],\n",
    "    'ring_necked_pheasant': ['common_pheasant', 'pheasant'],\n",
    "    'eared_grebe': ['black-necked_grebe'],    \n",
    "\n",
    "\n",
    "}"
   ]
  },
  {
   "cell_type": "code",
   "execution_count": null,
   "metadata": {},
   "outputs": [],
   "source": [
    "absent_species_lst = [\n",
    "    'mandarin_duck',\n",
    "    'ruddy_duck',\n",
    "    \n",
    "\n",
    "]"
   ]
  }
 ],
 "metadata": {
  "kernelspec": {
   "display_name": ".venv",
   "language": "python",
   "name": "python3"
  },
  "language_info": {
   "codemirror_mode": {
    "name": "ipython",
    "version": 3
   },
   "file_extension": ".py",
   "mimetype": "text/x-python",
   "name": "python",
   "nbconvert_exporter": "python",
   "pygments_lexer": "ipython3",
   "version": "3.10.12"
  }
 },
 "nbformat": 4,
 "nbformat_minor": 2
}
