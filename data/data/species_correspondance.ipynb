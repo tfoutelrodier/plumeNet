{
 "cells": [
  {
   "cell_type": "markdown",
   "metadata": {},
   "source": [
    "### Make a correspondance between french bird data scrapped and species in database"
   ]
  },
  {
   "cell_type": "code",
   "execution_count": 54,
   "metadata": {},
   "outputs": [],
   "source": [
    "import numpy as np\n",
    "import pandas as pd\n",
    "from nltk import edit_distance"
   ]
  },
  {
   "cell_type": "code",
   "execution_count": 81,
   "metadata": {},
   "outputs": [],
   "source": [
    "def snakify_bird_name(name:str) -> str:\n",
    "    '''\n",
    "    change name to snkae case format\n",
    "    - remove leading and trailing blanks\n",
    "    - lower all char\n",
    "    - replace \" \" and \"-\" by \"_\"\n",
    "    - remove \"'\"\n",
    "    '''\n",
    "    snake_name = name.strip().lower().replace(\" \", \"_\").replace(\"-\", \"_\").replace(\"'\", \"\")\n",
    "    return snake_name"
   ]
  },
  {
   "cell_type": "code",
   "execution_count": 82,
   "metadata": {},
   "outputs": [],
   "source": [
    "def find_closest_bird(bird_name:str, bird_lst:[str, ...]) -> (int, [str, ...]):\n",
    "    \"\"\"\n",
    "    Find closest str to bird_name in bird_lst\n",
    "    Distance is leveinstein distance\n",
    "\n",
    "    Returns min_dist (int) and min_birds ([str, ...])\n",
    "    \"\"\"\n",
    "    min_dist = len(bird_name)\n",
    "    min_birds = []\n",
    "    for other_bird in bird_lst:\n",
    "        name_dist = edit_distance(bird_name, other_bird)\n",
    "        if name_dist < min_dist:\n",
    "            min_dist = name_dist\n",
    "            min_birds = [other_bird]\n",
    "        elif name_dist == min_dist:\n",
    "            min_birds.append(other_bird)\n",
    "    \n",
    "    return min_dist, min_birds"
   ]
  },
  {
   "cell_type": "markdown",
   "metadata": {},
   "source": [
    "### load databases"
   ]
  },
  {
   "cell_type": "code",
   "execution_count": 84,
   "metadata": {},
   "outputs": [],
   "source": [
    "# load database\n",
    "database_file = \"all_DIB_image_data.csv\"\n",
    "scrapped_data_file = \"../../src/french_bird_wiki.csv\"\n",
    "merge_data_file = \"../../french_birds_metadata.csv\"\n",
    "\n",
    "database_df = pd.read_csv(database_file, header=0)\n",
    "french_bird_df = pd.read_csv(scrapped_data_file, header=0, sep=\";\")  "
   ]
  },
  {
   "cell_type": "markdown",
   "metadata": {},
   "source": [
    "### world birds database preprocessing"
   ]
  },
  {
   "cell_type": "code",
   "execution_count": 87,
   "metadata": {},
   "outputs": [],
   "source": [
    "# there are exactly 70 Na values, one for each file. Need to revisit a bit the world metadata gathering to check on them\n",
    "database_df = database_df.dropna()\n"
   ]
  },
  {
   "cell_type": "markdown",
   "metadata": {},
   "source": [
    "### french bird data preprocessing"
   ]
  },
  {
   "cell_type": "code",
   "execution_count": 88,
   "metadata": {},
   "outputs": [],
   "source": [
    "french_bird_df['english_name_snake_case'] = french_bird_df['Nom_EN'].apply(snakify_bird_name)"
   ]
  },
  {
   "cell_type": "markdown",
   "metadata": {},
   "source": [
    "### Species list prepration"
   ]
  },
  {
   "cell_type": "code",
   "execution_count": 89,
   "metadata": {},
   "outputs": [],
   "source": [
    "database_bird_lst = database_df['bird_name'].to_list()"
   ]
  },
  {
   "cell_type": "markdown",
   "metadata": {},
   "source": [
    "### merge dataset and save"
   ]
  },
  {
   "cell_type": "code",
   "execution_count": 90,
   "metadata": {},
   "outputs": [],
   "source": [
    "merge_df = pd.merge(french_bird_df, database_df, how='inner', left_on='english_name_snake_case', right_on='bird_name')\n",
    "merge_df.head()\n",
    "\n",
    "merge_df.to_csv(merge_data_file, sep=\";\", header=True, index=False)"
   ]
  },
  {
   "cell_type": "markdown",
   "metadata": {},
   "source": [
    "### Missing birds analysis"
   ]
  },
  {
   "cell_type": "code",
   "execution_count": 91,
   "metadata": {},
   "outputs": [],
   "source": [
    "# sanity check that there is no duplicated bird\n",
    "french_birds_dict = dict(zip(french_bird_df['english_name_snake_case'], [0] * french_bird_df.shape[0]))\n",
    "\n",
    "for bird in database_df['bird_name']:\n",
    "    if bird in french_birds_dict:\n",
    "        french_birds_dict[bird] = french_birds_dict[bird] + 1"
   ]
  },
  {
   "cell_type": "code",
   "execution_count": 92,
   "metadata": {},
   "outputs": [
    {
     "data": {
      "text/plain": [
       "count\n",
       "1    546\n",
       "0     76\n",
       "Name: count, dtype: int64"
      ]
     },
     "execution_count": 92,
     "metadata": {},
     "output_type": "execute_result"
    }
   ],
   "source": [
    "count_df = pd.DataFrame([{\"species\":key, \"count\":value} for key, value in french_birds_dict.items()])\n",
    "count_df['count'].value_counts()"
   ]
  },
  {
   "cell_type": "code",
   "execution_count": 40,
   "metadata": {},
   "outputs": [],
   "source": [
    "missing_birds = count_df.loc[count_df['count']==0, ['species']].species.to_list()"
   ]
  },
  {
   "cell_type": "code",
   "execution_count": 75,
   "metadata": {},
   "outputs": [
    {
     "name": "stdout",
     "output_type": "stream",
     "text": [
      "graylag_goose 1 ['greylag_goose']\n",
      "brant 4 ['nene', 'besra', 'kagu', 'sora', 'brolga', 'ruff', 'kea', 'mao', 'brubru', 'rook', 'wrentit', 'omao']\n",
      "mandarin_duck 4 ['andean_duck']\n",
      "marbled_teal 4 ['marbled_duck']\n",
      "ruddy_duck 4 ['ruddy_shelduck', 'wood_duck', 'musk_duck', 'ruddy_crake', 'rudds_lark']\n",
      "black_grouse 4 ['black_guan', 'sage_grouse', 'black_crake', 'black_phoebe', 'black_oriole', 'black_drongo', 'black_robin', 'black_thrush']\n",
      "gray_partridge 1 ['grey_partridge']\n",
      "ring_necked_pheasant 7 ['white_eared_pheasant', 'brown_eared_pheasant', 'blue_eared_pheasant']\n",
      "eared_grebe 3 ['horned_grebe']\n",
      "rock_pigeon 3 ['trocaz_pigeon', 'pink_pigeon']\n",
      "eurasian_nightjar 3 ['european_nightjar']\n",
      "eurasian_moorhen 4 ['tristan_moorhen', 'eurasian_hoopoe', 'eurasian_wren']\n",
      "eurasian_thick_knee 4 ['peruvian_thick_knee']\n",
      "black_bellied_plover 5 ['black_bellied_tern', 'black_bellied_wren', 'black_billed_weaver']\n",
      "little_ringed_plover 6 ['common_ringed_plover']\n",
      "eurasian_whimbrel 5 ['eurasian_dotterel', 'eurasian_wren', 'hudsonian_whimbrel']\n",
      "bar_tailed_godwit 3 ['black_tailed_godwit']\n",
      "short_billed_dowitcher 4 ['long_billed_dowitcher']\n",
      "oriental_pratincole 6 ['grey_pratincole']\n",
      "long_tailed_jaeger 5 ['long_tailed_hawk', 'long_tailed_triller']\n",
      "dovekie 4 ['akekee']\n",
      "common_gull 3 ['common_quail', 'common_bulbul']\n",
      "glaucous_gull 5 ['audouins_gull', 'olrogs_gull', 'glaucous_macaw']\n",
      "arctic_loon 3 ['arctic_tern']\n",
      "yellow_nosed_albatross 7 ['indian_yellow_nosed_albatross']\n",
      "european_shag 4 ['european_serin']\n",
      "great_bittern 3 ['forest_bittern', 'least_bittern']\n",
      "gray_heron 1 ['grey_heron']\n",
      "western_reef_heron 7 ['white_necked_heron', 'pacific_reef_heron', 'western_swamphen', 'western_fieldwren']\n",
      "cattle_egret 2 ['little_egret']\n",
      "green_heron 2 ['grey_heron']\n",
      "oriental_honey_buzzard 5 ['crested_honey_buzzard']\n",
      "rüppells_griffon 6 ['rüppells_korhaan', 'rüppells_parrot']\n",
      "eurasian_griffon 4 ['eurasian_wigeon']\n",
      "eurasian_marsh_harrier 5 ['eastern_marsh_harrier', 'african_marsh_harrier']\n",
      "rough_legged_hawk 6 ['rough_legged_buzzard']\n",
      "gray_headed_woodpecker 1 ['grey_headed_woodpecker']\n",
      "eurasian_green_woodpecker 3 ['european_green_woodpecker']\n",
      "eurasian_kestrel 4 ['eurasian_dotterel']\n",
      "brown_shrike 3 ['brown_crake']\n",
      "iberian_gray_shrike 1 ['iberian_grey_shrike']\n",
      "great_gray_shrike 1 ['great_grey_shrike']\n",
      "lesser_gray_shrike 1 ['lesser_grey_shrike']\n",
      "eurasian_magpie 4 ['eurasian_hoopoe', 'australian_magpie']\n",
      "eurasian_nutcracker 6 ['eurasian_nuthatch']\n",
      "yellow_billed_chough 5 ['yellow_billed_duck', 'yellow_billed_loon', 'yellow_billed_stork', 'yellow_billed_cuckoo', 'yellow_billed_cotinga', 'yellow_billed_shrike', 'red_billed_chough']\n",
      "eurasian_jackdaw 4 ['daurian_jackdaw', 'eurasian_blackcap']\n",
      "common_raven 3 ['common_crane']\n",
      "crested_tit 3 ['crested_ibis', 'crested_owl', 'crested_jay']\n",
      "wood_lark 3 ['wood_duck', 'wood_stork', 'foxy_lark', 'red_lark', 'sand_lark']\n",
      "mediterranean_short_toed_lark 10 ['mongolian_short_toed_lark', 'greater_short_toed_lark', 'asian_short_toed_lark', 'lesser_short_toed_lark']\n",
      "common_reed_warbler 3 ['cook_reed_warbler']\n",
      "plain_martin 3 ['pale_martin']\n",
      "bank_swallow 2 ['barn_swallow']\n",
      "cliff_swallow 4 ['hill_swallow', 'blue_swallow', 'cave_swallow']\n",
      "humes_warbler 3 ['yemen_warbler', 'lucys_warbler']\n",
      "western_subalpine_warbler 7 ['western_bonellis_warbler']\n",
      "greater_whitethroat 4 ['lesser_whitethroat']\n",
      "european_starling 4 ['european_serin']\n",
      "gray_cheeked_thrush 1 ['grey_cheeked_thrush']\n",
      "eurasian_blackbird 4 ['eurasian_blackcap']\n",
      "european_pied_flycatcher 7 ['atlas_pied_flycatcher', 'little_pied_flycatcher']\n",
      "rufous_tailed_rock_thrush 4 ['rufous_tailed_palm_thrush']\n",
      "western_black_eared_wheatear 2 ['eastern_black_eared_wheatear']\n",
      "gray_wagtail 1 ['grey_wagtail']\n",
      "rock_pipit 2 ['rosy_pipit']\n",
      "american_pipit 2 ['african_pipit']\n",
      "eurasian_linnet 5 ['eurasian_wigeon', 'eurasian_bittern', 'eurasian_coot', 'eurasian_curlew', 'eurasian_wryneck', 'eurasian_wren']\n",
      "hoary_redpoll 5 ['common_redpoll']\n",
      "white_winged_crossbill 5 ['white_winged_robin', 'white_winged_grosbeak']\n",
      "eurasian_siskin 4 ['eurasian_wigeon']\n",
      "pallass_bunting 5 ['mckays_bunting', 'slaty_bunting', 'cabaniss_bunting', 'yellow_bunting', 'pallass_reed_bunting', 'lark_bunting', 'painted_bunting']\n",
      "reed_bunting 3 ['crested_bunting', 'rock_bunting', 'grey_bunting', 'varied_bunting']\n",
      "brown_headed_cowbird 5 ['brown_headed_crow']\n",
      "yellow_warbler 2 ['willow_warbler']\n",
      "chestnut_sided_warbler 4 ['chestnut_vented_warbler']\n"
     ]
    }
   ],
   "source": [
    "for bird in missing_birds:\n",
    "    min_dist, min_birds = find_closest_bird(bird, database_bird_lst)\n",
    "    print(bird, min_dist, min_birds)\n"
   ]
  },
  {
   "cell_type": "code",
   "execution_count": null,
   "metadata": {},
   "outputs": [],
   "source": [
    "name_correspondance_dict = {\n",
    "    'graylag_goose':'greylag_goose',\n",
    "    'gray_partridge':'gray_partridge',\n",
    "    'marbled_teal':'marbled_duck',\n",
    "    \n",
    "\n",
    "}"
   ]
  },
  {
   "cell_type": "code",
   "execution_count": null,
   "metadata": {},
   "outputs": [],
   "source": [
    "alternative_names_dict = {\n",
    "    'brant':['brent_goose'],\n",
    "    'black_goose': ['northern_black_grouse', 'eurasian_black_grouse', 'blackgame', 'blackcock'],\n",
    "    'ring_necked_pheasant': ['common_pheasant', 'pheasant'],\n",
    "    'eared_grebe': ['black-necked_grebe'],    \n",
    "\n",
    "\n",
    "}"
   ]
  },
  {
   "cell_type": "code",
   "execution_count": null,
   "metadata": {},
   "outputs": [],
   "source": [
    "absent_species_lst = [\n",
    "    'mandarin_duck',\n",
    "    'ruddy_duck',\n",
    "    \n",
    "\n",
    "]"
   ]
  }
 ],
 "metadata": {
  "kernelspec": {
   "display_name": ".venv",
   "language": "python",
   "name": "python3"
  },
  "language_info": {
   "codemirror_mode": {
    "name": "ipython",
    "version": 3
   },
   "file_extension": ".py",
   "mimetype": "text/x-python",
   "name": "python",
   "nbconvert_exporter": "python",
   "pygments_lexer": "ipython3",
   "version": "3.10.12"
  }
 },
 "nbformat": 4,
 "nbformat_minor": 2
}
