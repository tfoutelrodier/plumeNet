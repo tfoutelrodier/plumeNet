{
 "cells": [
  {
   "cell_type": "code",
   "execution_count": 11,
   "metadata": {},
   "outputs": [],
   "source": [
    "import os\n",
    "import pandas as pd\n",
    "from pathlib import Path\n",
    "\n",
    "def create_database_df(dataset_folder: str) -> 'DataFrame':\n",
    "\n",
    "    \"\"\"\n",
    "    This function takes a bird database folder (unzipped) and generate a dataframe with two columns:\n",
    "    - image_path\n",
    "    - species\n",
    "    \"\"\"\n",
    "\n",
    "    data_lst = []\n",
    "\n",
    "    species_folders = os.listdir(dataset_folder)\n",
    "\n",
    "    for folder in species_folders: \n",
    "        for image_file in Path(os.path.join(dataset_folder,folder)).glob(\"*.jpg\"):\n",
    "            row = {\n",
    "                'img_path':image_file,\n",
    "                'species':os.path.basename(image_file).rsplit('_', 1)[0]\n",
    "            }\n",
    "            data_lst.append(row)\n",
    "\n",
    "    return pd.DataFrame(data_lst)"
   ]
  },
  {
   "cell_type": "code",
   "execution_count": 16,
   "metadata": {},
   "outputs": [
    {
     "data": {
      "text/html": [
       "<div>\n",
       "<style scoped>\n",
       "    .dataframe tbody tr th:only-of-type {\n",
       "        vertical-align: middle;\n",
       "    }\n",
       "\n",
       "    .dataframe tbody tr th {\n",
       "        vertical-align: top;\n",
       "    }\n",
       "\n",
       "    .dataframe thead th {\n",
       "        text-align: right;\n",
       "    }\n",
       "</style>\n",
       "<table border=\"1\" class=\"dataframe\">\n",
       "  <thead>\n",
       "    <tr style=\"text-align: right;\">\n",
       "      <th></th>\n",
       "      <th>img_path</th>\n",
       "      <th>species</th>\n",
       "    </tr>\n",
       "  </thead>\n",
       "  <tbody>\n",
       "    <tr>\n",
       "      <th>0</th>\n",
       "      <td>french_bird_db_50_100/phylloscopus_fuscatus/ph...</td>\n",
       "      <td>phylloscopus_fuscatus</td>\n",
       "    </tr>\n",
       "    <tr>\n",
       "      <th>1</th>\n",
       "      <td>french_bird_db_50_100/phylloscopus_fuscatus/ph...</td>\n",
       "      <td>phylloscopus_fuscatus</td>\n",
       "    </tr>\n",
       "    <tr>\n",
       "      <th>2</th>\n",
       "      <td>french_bird_db_50_100/phylloscopus_fuscatus/ph...</td>\n",
       "      <td>phylloscopus_fuscatus</td>\n",
       "    </tr>\n",
       "    <tr>\n",
       "      <th>3</th>\n",
       "      <td>french_bird_db_50_100/phylloscopus_fuscatus/ph...</td>\n",
       "      <td>phylloscopus_fuscatus</td>\n",
       "    </tr>\n",
       "    <tr>\n",
       "      <th>4</th>\n",
       "      <td>french_bird_db_50_100/phylloscopus_fuscatus/ph...</td>\n",
       "      <td>phylloscopus_fuscatus</td>\n",
       "    </tr>\n",
       "  </tbody>\n",
       "</table>\n",
       "</div>"
      ],
      "text/plain": [
       "                                            img_path                species\n",
       "0  french_bird_db_50_100/phylloscopus_fuscatus/ph...  phylloscopus_fuscatus\n",
       "1  french_bird_db_50_100/phylloscopus_fuscatus/ph...  phylloscopus_fuscatus\n",
       "2  french_bird_db_50_100/phylloscopus_fuscatus/ph...  phylloscopus_fuscatus\n",
       "3  french_bird_db_50_100/phylloscopus_fuscatus/ph...  phylloscopus_fuscatus\n",
       "4  french_bird_db_50_100/phylloscopus_fuscatus/ph...  phylloscopus_fuscatus"
      ]
     },
     "execution_count": 16,
     "metadata": {},
     "output_type": "execute_result"
    }
   ],
   "source": [
    "dataset_folder = \"french_bird_db_50_100\"\n",
    "df = create_database_df(dataset_folder)\n",
    "df.head()"
   ]
  }
 ],
 "metadata": {
  "kernelspec": {
   "display_name": ".venv",
   "language": "python",
   "name": "python3"
  },
  "language_info": {
   "codemirror_mode": {
    "name": "ipython",
    "version": 3
   },
   "file_extension": ".py",
   "mimetype": "text/x-python",
   "name": "python",
   "nbconvert_exporter": "python",
   "pygments_lexer": "ipython3",
   "version": "3.10.12"
  }
 },
 "nbformat": 4,
 "nbformat_minor": 2
}
