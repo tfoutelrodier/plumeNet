{
 "cells": [
  {
   "cell_type": "markdown",
   "metadata": {},
   "source": [
    "## EVALUATION DU MODELE XGBOOST POUR PLUMENET\n",
    "### Thierry"
   ]
  },
  {
   "cell_type": "code",
   "execution_count": 1,
   "metadata": {},
   "outputs": [
    {
     "name": "stdout",
     "output_type": "stream",
     "text": [
      "Requirement already satisfied: scikit-learn in /home/thierry/.pyenv/versions/3.10.12/lib/python3.10/site-packages (1.5.0)\n",
      "Requirement already satisfied: scipy>=1.6.0 in /home/thierry/.pyenv/versions/3.10.12/lib/python3.10/site-packages (from scikit-learn) (1.14.0)\n",
      "Requirement already satisfied: numpy>=1.19.5 in /home/thierry/.pyenv/versions/3.10.12/lib/python3.10/site-packages (from scikit-learn) (1.26.4)\n",
      "Requirement already satisfied: joblib>=1.2.0 in /home/thierry/.pyenv/versions/3.10.12/lib/python3.10/site-packages (from scikit-learn) (1.4.2)\n",
      "Requirement already satisfied: threadpoolctl>=3.1.0 in /home/thierry/.pyenv/versions/3.10.12/lib/python3.10/site-packages (from scikit-learn) (3.5.0)\n",
      "\n",
      "\u001b[1m[\u001b[0m\u001b[34;49mnotice\u001b[0m\u001b[1;39;49m]\u001b[0m\u001b[39;49m A new release of pip is available: \u001b[0m\u001b[31;49m23.0.1\u001b[0m\u001b[39;49m -> \u001b[0m\u001b[32;49m24.1\u001b[0m\n",
      "\u001b[1m[\u001b[0m\u001b[34;49mnotice\u001b[0m\u001b[1;39;49m]\u001b[0m\u001b[39;49m To update, run: \u001b[0m\u001b[32;49mpip install --upgrade pip\u001b[0m\n",
      "Requirement already satisfied: xgboost in /home/thierry/.pyenv/versions/3.10.12/lib/python3.10/site-packages (2.1.0)\n",
      "Requirement already satisfied: numpy in /home/thierry/.pyenv/versions/3.10.12/lib/python3.10/site-packages (from xgboost) (1.26.4)\n",
      "Requirement already satisfied: scipy in /home/thierry/.pyenv/versions/3.10.12/lib/python3.10/site-packages (from xgboost) (1.14.0)\n",
      "Requirement already satisfied: nvidia-nccl-cu12 in /home/thierry/.pyenv/versions/3.10.12/lib/python3.10/site-packages (from xgboost) (2.22.3)\n",
      "\n",
      "\u001b[1m[\u001b[0m\u001b[34;49mnotice\u001b[0m\u001b[1;39;49m]\u001b[0m\u001b[39;49m A new release of pip is available: \u001b[0m\u001b[31;49m23.0.1\u001b[0m\u001b[39;49m -> \u001b[0m\u001b[32;49m24.1\u001b[0m\n",
      "\u001b[1m[\u001b[0m\u001b[34;49mnotice\u001b[0m\u001b[1;39;49m]\u001b[0m\u001b[39;49m To update, run: \u001b[0m\u001b[32;49mpip install --upgrade pip\u001b[0m\n",
      "Requirement already satisfied: matplotlib in /home/thierry/.pyenv/versions/3.10.12/lib/python3.10/site-packages (3.9.0)\n",
      "Requirement already satisfied: pyparsing>=2.3.1 in /home/thierry/.pyenv/versions/3.10.12/lib/python3.10/site-packages (from matplotlib) (3.1.2)\n",
      "Requirement already satisfied: python-dateutil>=2.7 in /home/thierry/.local/lib/python3.10/site-packages (from matplotlib) (2.9.0.post0)\n",
      "Requirement already satisfied: contourpy>=1.0.1 in /home/thierry/.pyenv/versions/3.10.12/lib/python3.10/site-packages (from matplotlib) (1.2.1)\n",
      "Requirement already satisfied: fonttools>=4.22.0 in /home/thierry/.pyenv/versions/3.10.12/lib/python3.10/site-packages (from matplotlib) (4.53.0)\n",
      "Requirement already satisfied: packaging>=20.0 in /home/thierry/.local/lib/python3.10/site-packages (from matplotlib) (24.0)\n",
      "Requirement already satisfied: cycler>=0.10 in /home/thierry/.pyenv/versions/3.10.12/lib/python3.10/site-packages (from matplotlib) (0.12.1)\n",
      "Requirement already satisfied: pillow>=8 in /home/thierry/.pyenv/versions/3.10.12/lib/python3.10/site-packages (from matplotlib) (10.3.0)\n",
      "Requirement already satisfied: numpy>=1.23 in /home/thierry/.pyenv/versions/3.10.12/lib/python3.10/site-packages (from matplotlib) (1.26.4)\n",
      "Requirement already satisfied: kiwisolver>=1.3.1 in /home/thierry/.pyenv/versions/3.10.12/lib/python3.10/site-packages (from matplotlib) (1.4.5)\n",
      "Requirement already satisfied: six>=1.5 in /home/thierry/.pyenv/versions/3.10.12/lib/python3.10/site-packages (from python-dateutil>=2.7->matplotlib) (1.16.0)\n",
      "\n",
      "\u001b[1m[\u001b[0m\u001b[34;49mnotice\u001b[0m\u001b[1;39;49m]\u001b[0m\u001b[39;49m A new release of pip is available: \u001b[0m\u001b[31;49m23.0.1\u001b[0m\u001b[39;49m -> \u001b[0m\u001b[32;49m24.1\u001b[0m\n",
      "\u001b[1m[\u001b[0m\u001b[34;49mnotice\u001b[0m\u001b[1;39;49m]\u001b[0m\u001b[39;49m To update, run: \u001b[0m\u001b[32;49mpip install --upgrade pip\u001b[0m\n"
     ]
    }
   ],
   "source": [
    "# Insatllation des packages\n",
    "! pip install scikit-learn\n",
    "! pip install xgboost\n",
    "! pip install matplotlib"
   ]
  },
  {
   "cell_type": "code",
   "execution_count": 86,
   "metadata": {},
   "outputs": [],
   "source": [
    "# Import des librairies\n",
    "import numpy as np\n",
    "import pandas as pd\n",
    "import os\n",
    "from sklearn.model_selection import train_test_split, RandomizedSearchCV\n",
    "import xgboost as xgb\n",
    "from xgboost import XGBClassifier\n",
    "from sklearn.pipeline import Pipeline\n",
    "from sklearn.metrics import accuracy_score\n",
    "from sklearn.decomposition import PCA\n",
    "import matplotlib.pyplot as plt"
   ]
  },
  {
   "cell_type": "code",
   "execution_count": 87,
   "metadata": {},
   "outputs": [],
   "source": [
    "# Initialisation des variables d'environnement\n",
    "plumnet_random_state=0"
   ]
  },
  {
   "cell_type": "code",
   "execution_count": 88,
   "metadata": {},
   "outputs": [
    {
     "name": "stderr",
     "output_type": "stream",
     "text": [
      "python(39449) MallocStackLogging: can't turn off malloc stack logging because it was not enabled.\n"
     ]
    },
    {
     "name": "stdout",
     "output_type": "stream",
     "text": [
      "/Users/pauljonquet/Documents/Artefact/plumeNet/src/models/CNN\n"
     ]
    }
   ],
   "source": [
    "!pwd"
   ]
  },
  {
   "cell_type": "code",
   "execution_count": 89,
   "metadata": {},
   "outputs": [
    {
     "name": "stdout",
     "output_type": "stream",
     "text": [
      "./french_bird_db_50_100\n"
     ]
    }
   ],
   "source": [
    "# Chargement des données\n",
    "dataset = 'french_bird_db_50_100'\n",
    "dir_path = os.path.join('.', dataset)\n",
    "print(dir_path)"
   ]
  },
  {
   "cell_type": "code",
   "execution_count": 91,
   "metadata": {},
   "outputs": [],
   "source": [
    "# # Image de test\n",
    "# espece = 'anthus_trivialis'\n",
    "# image_test = 'anthus_trivialis_0.jpg'\n",
    "# file_path = os.path.join(dir_path, espece, image_test)\n",
    "# print(file_path)\n",
    "\n",
    "# img = plt.imread(file_path)\n",
    "# plt.figure(figsize=(10,10))\n",
    "# plt.axis('off')\n",
    "# plt.imshow(img)\n",
    "# plt.show()"
   ]
  },
  {
   "cell_type": "code",
   "execution_count": 92,
   "metadata": {},
   "outputs": [
    {
     "name": "stdout",
     "output_type": "stream",
     "text": [
      "(270000,)\n"
     ]
    }
   ],
   "source": [
    "# Format des images\n",
    "# print(img.shape)"
   ]
  },
  {
   "cell_type": "code",
   "execution_count": 93,
   "metadata": {},
   "outputs": [],
   "source": [
    "# ----------------------------------------------------- CHARGEMENT DU DATASET -------------------------------------------------------------\n",
    "\n",
    "# Liste des répertoires = liste des espèces\n",
    "repertoires = [nom for nom in os.listdir(dir_path) if os.path.isdir(os.path.join(dir_path, nom))]\n",
    "repertoires = sorted(repertoires)\n",
    "\n",
    "liste_images = []\n",
    "liste_especes = []\n",
    "X_constr = []\n",
    "y_constr = []\n",
    "\n",
    "espece_id = 0\n",
    "\n",
    "max_images = 50\n",
    "\n",
    "\n",
    "# Récupération du nom des images\n",
    "for repertoire in repertoires :\n",
    "    nb_images = 0\n",
    "    liste_especes.append({'nom' : repertoire, 'id' : espece_id})\n",
    "    dir_espece = os.path.join(dir_path, repertoire)\n",
    "    \n",
    "    for fichier in os.listdir(dir_espece) :\n",
    "        if nb_images < max_images :\n",
    "            #print(fichier)\n",
    "            nom_fichier = os.path.join(dir_espece, fichier)\n",
    "            img = plt.imread(nom_fichier)\n",
    "            img = img.reshape(-1)\n",
    "            #print(img.shape[0])\n",
    "            if (img.shape[0] == 300*300*3) :\n",
    "                X_constr.append(img)\n",
    "                y_constr.append(espece_id)\n",
    "                nb_images += 1\n",
    "    espece_id += 1\n",
    "liste_especes = pd.DataFrame(liste_especes)"
   ]
  },
  {
   "cell_type": "code",
   "execution_count": 94,
   "metadata": {},
   "outputs": [
    {
     "name": "stdout",
     "output_type": "stream",
     "text": [
      "50  images\n"
     ]
    }
   ],
   "source": [
    "print(nb_images,\" images\")"
   ]
  },
  {
   "cell_type": "code",
   "execution_count": 95,
   "metadata": {},
   "outputs": [
    {
     "name": "stdout",
     "output_type": "stream",
     "text": [
      "(2500, 1)\n",
      "(2500, 270000)\n"
     ]
    }
   ],
   "source": [
    "# Construction de X, y\n",
    "y = pd.DataFrame(y_constr)\n",
    "print(y.shape)\n",
    "X = np.vstack(X_constr)\n",
    "X = pd.DataFrame(X)\n",
    "print(X.shape)"
   ]
  },
  {
   "cell_type": "code",
   "execution_count": 96,
   "metadata": {},
   "outputs": [
    {
     "name": "stdout",
     "output_type": "stream",
     "text": [
      "Max = 255\n"
     ]
    }
   ],
   "source": [
    "# Préparation des données - normalisation\n",
    "print('Max =', X.values.max())\n",
    "\n",
    "for ligne in range(len(X)) :\n",
    "    X[ligne] = np.float16(X[ligne]/255)"
   ]
  },
  {
   "cell_type": "code",
   "execution_count": 97,
   "metadata": {},
   "outputs": [
    {
     "data": {
      "text/plain": [
       "(2500,)"
      ]
     },
     "execution_count": 97,
     "metadata": {},
     "output_type": "execute_result"
    }
   ],
   "source": [
    "y_shaped = np.array(y).reshape(y.shape[0])\n",
    "y_shaped.shape"
   ]
  },
  {
   "cell_type": "code",
   "execution_count": 98,
   "metadata": {},
   "outputs": [
    {
     "name": "stdout",
     "output_type": "stream",
     "text": [
      "(2000, 270000) (2000,) (500, 270000) (500,)\n"
     ]
    }
   ],
   "source": [
    "# Split\n",
    "X_train, X_test, y_train, y_test = train_test_split(X, y_shaped, test_size=0.2, shuffle=True, random_state=plumnet_random_state)\n",
    "print(X_train.shape, y_train.shape, X_test.shape, y_test.shape)"
   ]
  },
  {
   "cell_type": "code",
   "execution_count": 106,
   "metadata": {},
   "outputs": [],
   "source": [
    "# Réduction de dimensions\n",
    "\n",
    "pca = PCA(n_components=100)\n",
    "pca.fit(X_train)\n",
    "X_train_pca = pca.transform(X_train)\n",
    "X_test_pca = pca.transform(X_test)"
   ]
  },
  {
   "cell_type": "code",
   "execution_count": 107,
   "metadata": {},
   "outputs": [],
   "source": [
    "# Constrction du pipeline\n",
    "pipeline = Pipeline([\n",
    "    ('xgb', XGBClassifier(use_label_encoder=False, eval_metric='mlogloss'))\n",
    "])"
   ]
  },
  {
   "cell_type": "code",
   "execution_count": 108,
   "metadata": {},
   "outputs": [],
   "source": [
    "# Définir la distribution des hyperparamètres pour la recherche aléatoire\n",
    "# https://xgboost.readthedocs.io/en/stable/parameter.html\n",
    "\n",
    "#param_dist = {\n",
    "#    'xgb__n_estimators': [50, 100, 200],  # Nombre d'arbres de décision à entraîner\n",
    "#    'xgb__max_depth': [3, 6, 8], # Profondeur maximale des arbres de décision\n",
    "#    'xgb__learning_rate': [0.01, 0.1, 0.3, 0.4], # Taux d'apprentissage\n",
    "#    'xgb__gamma': [0, 0.1, 0.2], # # Seuil de réduction de la perte pour une nouvelle partition\n",
    "#    'xgb__reg_lambda': [1, 1.5, 2] # Taux de régularisation L2\n",
    "#}"
   ]
  },
  {
   "cell_type": "code",
   "execution_count": 109,
   "metadata": {},
   "outputs": [],
   "source": [
    "param_dist = {\n",
    "    'xgb__n_estimators': [5, 10],  # Nombre d'arbres de décision à entraîner\n",
    "    'xgb__max_depth': [3], # Profondeur maximale des arbres de décision\n",
    "    'xgb__learning_rate': [0.1], # Taux d'apprentissage\n",
    "    'xgb__gamma': [0.1], # # Seuil de réduction de la perte pour une nouvelle partition\n",
    "    'xgb__reg_lambda': [1.5] # Taux de régularisation L2\n",
    "}"
   ]
  },
  {
   "cell_type": "code",
   "execution_count": 110,
   "metadata": {},
   "outputs": [
    {
     "data": {
      "text/plain": [
       "((2000, 270000), (2000, 100), (2000,))"
      ]
     },
     "execution_count": 110,
     "metadata": {},
     "output_type": "execute_result"
    }
   ],
   "source": [
    "X_train.shape, X_train_pca.shape, y_train.shape"
   ]
  },
  {
   "cell_type": "code",
   "execution_count": 111,
   "metadata": {},
   "outputs": [
    {
     "name": "stdout",
     "output_type": "stream",
     "text": [
      "Fitting 5 folds for each of 2 candidates, totalling 10 fits\n"
     ]
    },
    {
     "name": "stderr",
     "output_type": "stream",
     "text": [
      "/Users/pauljonquet/.pyenv/versions/3.10.12/envs/Artefact/lib/python3.10/site-packages/sklearn/model_selection/_search.py:307: UserWarning: The total space of parameters 2 is smaller than n_iter=5. Running 2 iterations. For exhaustive searches, use GridSearchCV.\n",
      "  warnings.warn(\n",
      "python(40812) MallocStackLogging: can't turn off malloc stack logging because it was not enabled.\n",
      "python(40814) MallocStackLogging: can't turn off malloc stack logging because it was not enabled.\n",
      "python(40816) MallocStackLogging: can't turn off malloc stack logging because it was not enabled.\n"
     ]
    },
    {
     "name": "stdout",
     "output_type": "stream",
     "text": [
      "[CV] END xgb__gamma=0.1, xgb__learning_rate=0.1, xgb__max_depth=3, xgb__n_estimators=5, xgb__reg_lambda=1.5; total time=   3.4s\n",
      "[CV] END xgb__gamma=0.1, xgb__learning_rate=0.1, xgb__max_depth=3, xgb__n_estimators=5, xgb__reg_lambda=1.5; total time=   3.4s\n",
      "[CV] END xgb__gamma=0.1, xgb__learning_rate=0.1, xgb__max_depth=3, xgb__n_estimators=5, xgb__reg_lambda=1.5; total time=   3.5s\n",
      "[CV] END xgb__gamma=0.1, xgb__learning_rate=0.1, xgb__max_depth=3, xgb__n_estimators=5, xgb__reg_lambda=1.5; total time=   3.5s\n",
      "[CV] END xgb__gamma=0.1, xgb__learning_rate=0.1, xgb__max_depth=3, xgb__n_estimators=5, xgb__reg_lambda=1.5; total time=   3.6s\n",
      "[CV] END xgb__gamma=0.1, xgb__learning_rate=0.1, xgb__max_depth=3, xgb__n_estimators=10, xgb__reg_lambda=1.5; total time=   5.7s\n",
      "[CV] END xgb__gamma=0.1, xgb__learning_rate=0.1, xgb__max_depth=3, xgb__n_estimators=10, xgb__reg_lambda=1.5; total time=   5.6s\n",
      "[CV] END xgb__gamma=0.1, xgb__learning_rate=0.1, xgb__max_depth=3, xgb__n_estimators=10, xgb__reg_lambda=1.5; total time=   5.9s\n",
      "[CV] END xgb__gamma=0.1, xgb__learning_rate=0.1, xgb__max_depth=3, xgb__n_estimators=10, xgb__reg_lambda=1.5; total time=   5.2s\n",
      "[CV] END xgb__gamma=0.1, xgb__learning_rate=0.1, xgb__max_depth=3, xgb__n_estimators=10, xgb__reg_lambda=1.5; total time=   5.2s\n"
     ]
    },
    {
     "data": {
      "text/html": [
       "<style>#sk-container-id-6 {color: black;}#sk-container-id-6 pre{padding: 0;}#sk-container-id-6 div.sk-toggleable {background-color: white;}#sk-container-id-6 label.sk-toggleable__label {cursor: pointer;display: block;width: 100%;margin-bottom: 0;padding: 0.3em;box-sizing: border-box;text-align: center;}#sk-container-id-6 label.sk-toggleable__label-arrow:before {content: \"▸\";float: left;margin-right: 0.25em;color: #696969;}#sk-container-id-6 label.sk-toggleable__label-arrow:hover:before {color: black;}#sk-container-id-6 div.sk-estimator:hover label.sk-toggleable__label-arrow:before {color: black;}#sk-container-id-6 div.sk-toggleable__content {max-height: 0;max-width: 0;overflow: hidden;text-align: left;background-color: #f0f8ff;}#sk-container-id-6 div.sk-toggleable__content pre {margin: 0.2em;color: black;border-radius: 0.25em;background-color: #f0f8ff;}#sk-container-id-6 input.sk-toggleable__control:checked~div.sk-toggleable__content {max-height: 200px;max-width: 100%;overflow: auto;}#sk-container-id-6 input.sk-toggleable__control:checked~label.sk-toggleable__label-arrow:before {content: \"▾\";}#sk-container-id-6 div.sk-estimator input.sk-toggleable__control:checked~label.sk-toggleable__label {background-color: #d4ebff;}#sk-container-id-6 div.sk-label input.sk-toggleable__control:checked~label.sk-toggleable__label {background-color: #d4ebff;}#sk-container-id-6 input.sk-hidden--visually {border: 0;clip: rect(1px 1px 1px 1px);clip: rect(1px, 1px, 1px, 1px);height: 1px;margin: -1px;overflow: hidden;padding: 0;position: absolute;width: 1px;}#sk-container-id-6 div.sk-estimator {font-family: monospace;background-color: #f0f8ff;border: 1px dotted black;border-radius: 0.25em;box-sizing: border-box;margin-bottom: 0.5em;}#sk-container-id-6 div.sk-estimator:hover {background-color: #d4ebff;}#sk-container-id-6 div.sk-parallel-item::after {content: \"\";width: 100%;border-bottom: 1px solid gray;flex-grow: 1;}#sk-container-id-6 div.sk-label:hover label.sk-toggleable__label {background-color: #d4ebff;}#sk-container-id-6 div.sk-serial::before {content: \"\";position: absolute;border-left: 1px solid gray;box-sizing: border-box;top: 0;bottom: 0;left: 50%;z-index: 0;}#sk-container-id-6 div.sk-serial {display: flex;flex-direction: column;align-items: center;background-color: white;padding-right: 0.2em;padding-left: 0.2em;position: relative;}#sk-container-id-6 div.sk-item {position: relative;z-index: 1;}#sk-container-id-6 div.sk-parallel {display: flex;align-items: stretch;justify-content: center;background-color: white;position: relative;}#sk-container-id-6 div.sk-item::before, #sk-container-id-6 div.sk-parallel-item::before {content: \"\";position: absolute;border-left: 1px solid gray;box-sizing: border-box;top: 0;bottom: 0;left: 50%;z-index: -1;}#sk-container-id-6 div.sk-parallel-item {display: flex;flex-direction: column;z-index: 1;position: relative;background-color: white;}#sk-container-id-6 div.sk-parallel-item:first-child::after {align-self: flex-end;width: 50%;}#sk-container-id-6 div.sk-parallel-item:last-child::after {align-self: flex-start;width: 50%;}#sk-container-id-6 div.sk-parallel-item:only-child::after {width: 0;}#sk-container-id-6 div.sk-dashed-wrapped {border: 1px dashed gray;margin: 0 0.4em 0.5em 0.4em;box-sizing: border-box;padding-bottom: 0.4em;background-color: white;}#sk-container-id-6 div.sk-label label {font-family: monospace;font-weight: bold;display: inline-block;line-height: 1.2em;}#sk-container-id-6 div.sk-label-container {text-align: center;}#sk-container-id-6 div.sk-container {/* jupyter's `normalize.less` sets `[hidden] { display: none; }` but bootstrap.min.css set `[hidden] { display: none !important; }` so we also need the `!important` here to be able to override the default hidden behavior on the sphinx rendered scikit-learn.org. See: https://github.com/scikit-learn/scikit-learn/issues/21755 */display: inline-block !important;position: relative;}#sk-container-id-6 div.sk-text-repr-fallback {display: none;}</style><div id=\"sk-container-id-6\" class=\"sk-top-container\"><div class=\"sk-text-repr-fallback\"><pre>RandomizedSearchCV(cv=5,\n",
       "                   estimator=Pipeline(steps=[(&#x27;xgb&#x27;,\n",
       "                                              XGBClassifier(base_score=None,\n",
       "                                                            booster=None,\n",
       "                                                            callbacks=None,\n",
       "                                                            colsample_bylevel=None,\n",
       "                                                            colsample_bynode=None,\n",
       "                                                            colsample_bytree=None,\n",
       "                                                            early_stopping_rounds=None,\n",
       "                                                            enable_categorical=False,\n",
       "                                                            eval_metric=&#x27;mlogloss&#x27;,\n",
       "                                                            gamma=None,\n",
       "                                                            gpu_id=None,\n",
       "                                                            grow_policy=None,\n",
       "                                                            importance_type=None,\n",
       "                                                            interaction_constraints=None,\n",
       "                                                            lea...\n",
       "                                                            monotone_constraints=None,\n",
       "                                                            n_estimators=100,\n",
       "                                                            n_jobs=None,\n",
       "                                                            num_parallel_tree=None,\n",
       "                                                            predictor=None,\n",
       "                                                            random_state=None,\n",
       "                                                            reg_alpha=None,\n",
       "                                                            reg_lambda=None, ...))]),\n",
       "                   n_iter=5, n_jobs=-1,\n",
       "                   param_distributions={&#x27;xgb__gamma&#x27;: [0.1],\n",
       "                                        &#x27;xgb__learning_rate&#x27;: [0.1],\n",
       "                                        &#x27;xgb__max_depth&#x27;: [3],\n",
       "                                        &#x27;xgb__n_estimators&#x27;: [5, 10],\n",
       "                                        &#x27;xgb__reg_lambda&#x27;: [1.5]},\n",
       "                   random_state=0, scoring=&#x27;accuracy&#x27;, verbose=2)</pre><b>In a Jupyter environment, please rerun this cell to show the HTML representation or trust the notebook. <br />On GitHub, the HTML representation is unable to render, please try loading this page with nbviewer.org.</b></div><div class=\"sk-container\" hidden><div class=\"sk-item sk-dashed-wrapped\"><div class=\"sk-label-container\"><div class=\"sk-label sk-toggleable\"><input class=\"sk-toggleable__control sk-hidden--visually\" id=\"sk-estimator-id-16\" type=\"checkbox\" ><label for=\"sk-estimator-id-16\" class=\"sk-toggleable__label sk-toggleable__label-arrow\">RandomizedSearchCV</label><div class=\"sk-toggleable__content\"><pre>RandomizedSearchCV(cv=5,\n",
       "                   estimator=Pipeline(steps=[(&#x27;xgb&#x27;,\n",
       "                                              XGBClassifier(base_score=None,\n",
       "                                                            booster=None,\n",
       "                                                            callbacks=None,\n",
       "                                                            colsample_bylevel=None,\n",
       "                                                            colsample_bynode=None,\n",
       "                                                            colsample_bytree=None,\n",
       "                                                            early_stopping_rounds=None,\n",
       "                                                            enable_categorical=False,\n",
       "                                                            eval_metric=&#x27;mlogloss&#x27;,\n",
       "                                                            gamma=None,\n",
       "                                                            gpu_id=None,\n",
       "                                                            grow_policy=None,\n",
       "                                                            importance_type=None,\n",
       "                                                            interaction_constraints=None,\n",
       "                                                            lea...\n",
       "                                                            monotone_constraints=None,\n",
       "                                                            n_estimators=100,\n",
       "                                                            n_jobs=None,\n",
       "                                                            num_parallel_tree=None,\n",
       "                                                            predictor=None,\n",
       "                                                            random_state=None,\n",
       "                                                            reg_alpha=None,\n",
       "                                                            reg_lambda=None, ...))]),\n",
       "                   n_iter=5, n_jobs=-1,\n",
       "                   param_distributions={&#x27;xgb__gamma&#x27;: [0.1],\n",
       "                                        &#x27;xgb__learning_rate&#x27;: [0.1],\n",
       "                                        &#x27;xgb__max_depth&#x27;: [3],\n",
       "                                        &#x27;xgb__n_estimators&#x27;: [5, 10],\n",
       "                                        &#x27;xgb__reg_lambda&#x27;: [1.5]},\n",
       "                   random_state=0, scoring=&#x27;accuracy&#x27;, verbose=2)</pre></div></div></div><div class=\"sk-parallel\"><div class=\"sk-parallel-item\"><div class=\"sk-item\"><div class=\"sk-label-container\"><div class=\"sk-label sk-toggleable\"><input class=\"sk-toggleable__control sk-hidden--visually\" id=\"sk-estimator-id-17\" type=\"checkbox\" ><label for=\"sk-estimator-id-17\" class=\"sk-toggleable__label sk-toggleable__label-arrow\">estimator: Pipeline</label><div class=\"sk-toggleable__content\"><pre>Pipeline(steps=[(&#x27;xgb&#x27;,\n",
       "                 XGBClassifier(base_score=None, booster=None, callbacks=None,\n",
       "                               colsample_bylevel=None, colsample_bynode=None,\n",
       "                               colsample_bytree=None,\n",
       "                               early_stopping_rounds=None,\n",
       "                               enable_categorical=False, eval_metric=&#x27;mlogloss&#x27;,\n",
       "                               gamma=None, gpu_id=None, grow_policy=None,\n",
       "                               importance_type=None,\n",
       "                               interaction_constraints=None, learning_rate=None,\n",
       "                               max_bin=None, max_cat_to_onehot=None,\n",
       "                               max_delta_step=None, max_depth=None,\n",
       "                               max_leaves=None, min_child_weight=None,\n",
       "                               missing=nan, monotone_constraints=None,\n",
       "                               n_estimators=100, n_jobs=None,\n",
       "                               num_parallel_tree=None, predictor=None,\n",
       "                               random_state=None, reg_alpha=None,\n",
       "                               reg_lambda=None, ...))])</pre></div></div></div><div class=\"sk-serial\"><div class=\"sk-item\"><div class=\"sk-serial\"><div class=\"sk-item\"><div class=\"sk-estimator sk-toggleable\"><input class=\"sk-toggleable__control sk-hidden--visually\" id=\"sk-estimator-id-18\" type=\"checkbox\" ><label for=\"sk-estimator-id-18\" class=\"sk-toggleable__label sk-toggleable__label-arrow\">XGBClassifier</label><div class=\"sk-toggleable__content\"><pre>XGBClassifier(base_score=None, booster=None, callbacks=None,\n",
       "              colsample_bylevel=None, colsample_bynode=None,\n",
       "              colsample_bytree=None, early_stopping_rounds=None,\n",
       "              enable_categorical=False, eval_metric=&#x27;mlogloss&#x27;, gamma=None,\n",
       "              gpu_id=None, grow_policy=None, importance_type=None,\n",
       "              interaction_constraints=None, learning_rate=None, max_bin=None,\n",
       "              max_cat_to_onehot=None, max_delta_step=None, max_depth=None,\n",
       "              max_leaves=None, min_child_weight=None, missing=nan,\n",
       "              monotone_constraints=None, n_estimators=100, n_jobs=None,\n",
       "              num_parallel_tree=None, predictor=None, random_state=None,\n",
       "              reg_alpha=None, reg_lambda=None, ...)</pre></div></div></div></div></div></div></div></div></div></div></div></div>"
      ],
      "text/plain": [
       "RandomizedSearchCV(cv=5,\n",
       "                   estimator=Pipeline(steps=[('xgb',\n",
       "                                              XGBClassifier(base_score=None,\n",
       "                                                            booster=None,\n",
       "                                                            callbacks=None,\n",
       "                                                            colsample_bylevel=None,\n",
       "                                                            colsample_bynode=None,\n",
       "                                                            colsample_bytree=None,\n",
       "                                                            early_stopping_rounds=None,\n",
       "                                                            enable_categorical=False,\n",
       "                                                            eval_metric='mlogloss',\n",
       "                                                            gamma=None,\n",
       "                                                            gpu_id=None,\n",
       "                                                            grow_policy=None,\n",
       "                                                            importance_type=None,\n",
       "                                                            interaction_constraints=None,\n",
       "                                                            lea...\n",
       "                                                            monotone_constraints=None,\n",
       "                                                            n_estimators=100,\n",
       "                                                            n_jobs=None,\n",
       "                                                            num_parallel_tree=None,\n",
       "                                                            predictor=None,\n",
       "                                                            random_state=None,\n",
       "                                                            reg_alpha=None,\n",
       "                                                            reg_lambda=None, ...))]),\n",
       "                   n_iter=5, n_jobs=-1,\n",
       "                   param_distributions={'xgb__gamma': [0.1],\n",
       "                                        'xgb__learning_rate': [0.1],\n",
       "                                        'xgb__max_depth': [3],\n",
       "                                        'xgb__n_estimators': [5, 10],\n",
       "                                        'xgb__reg_lambda': [1.5]},\n",
       "                   random_state=0, scoring='accuracy', verbose=2)"
      ]
     },
     "execution_count": 111,
     "metadata": {},
     "output_type": "execute_result"
    }
   ],
   "source": [
    "# Effectuer la recherche aléatoire avec validation croisée\n",
    "nb_iterations = 5 # Nombre de combinaisons différentes d'hyperparamètres\n",
    "nb_cv = 5 # Nombre de cross-validations\n",
    "random_search = RandomizedSearchCV(pipeline, param_distributions=param_dist, n_iter=nb_iterations, cv=nb_cv, scoring='accuracy', random_state=plumnet_random_state, n_jobs=-1, verbose=2)\n",
    "random_search.fit(X_train_pca, y_train)"
   ]
  },
  {
   "cell_type": "code",
   "execution_count": 112,
   "metadata": {},
   "outputs": [
    {
     "name": "stdout",
     "output_type": "stream",
     "text": [
      "Best Parameters: {'xgb__reg_lambda': 1.5, 'xgb__n_estimators': 10, 'xgb__max_depth': 3, 'xgb__learning_rate': 0.1, 'xgb__gamma': 0.1}\n",
      "Accuracy Train = 0.609\n",
      "Accuracy Test = 0.062\n"
     ]
    }
   ],
   "source": [
    "# Évaluer le meilleur modèle sur les données de test\n",
    "best_model = random_search.best_estimator_\n",
    "print(f\"Best Parameters: {random_search.best_params_}\")\n",
    "y_pred_train = best_model.predict(X_train_pca)\n",
    "y_pred_test = best_model.predict(X_test_pca)\n",
    "accuracy_train = accuracy_score(y_train, y_pred_train)\n",
    "accuracy_test = accuracy_score(y_test, y_pred_test)\n",
    "print(f\"Accuracy Train = {accuracy_train}\")\n",
    "print(f\"Accuracy Test = {accuracy_test}\")"
   ]
  }
 ],
 "metadata": {
  "kernelspec": {
   "display_name": "Python 3",
   "language": "python",
   "name": "python3"
  },
  "language_info": {
   "codemirror_mode": {
    "name": "ipython",
    "version": 3
   },
   "file_extension": ".py",
   "mimetype": "text/x-python",
   "name": "python",
   "nbconvert_exporter": "python",
   "pygments_lexer": "ipython3",
   "version": "3.10.12"
  }
 },
 "nbformat": 4,
 "nbformat_minor": 2
}
