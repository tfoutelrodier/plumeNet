{
 "cells": [
  {
   "cell_type": "code",
   "execution_count": 10,
   "metadata": {},
   "outputs": [],
   "source": [
    "import numpy as np\n",
    "import tensorflow as tf"
   ]
  },
  {
   "cell_type": "markdown",
   "metadata": {},
   "source": [
    "# train test split"
   ]
  },
  {
   "cell_type": "code",
   "execution_count": 11,
   "metadata": {},
   "outputs": [],
   "source": [
    "from keras.utils import image_dataset_from_directory"
   ]
  },
  {
   "cell_type": "code",
   "execution_count": 31,
   "metadata": {},
   "outputs": [
    {
     "name": "stdout",
     "output_type": "stream",
     "text": [
      "Found 5000 files belonging to 50 classes.\n",
      "Using 4000 files for training.\n",
      "Found 5000 files belonging to 50 classes.\n",
      "Using 1000 files for validation.\n"
     ]
    }
   ],
   "source": [
    "ds_train = image_dataset_from_directory('../data/french_bird_db_50_100', labels='inferred', image_size=(300, 300), validation_split=0.2, subset=\"training\",\n",
    "seed=42, batch_size=64)\n",
    "\n",
    "ds_test = image_dataset_from_directory('../data/french_bird_db_50_100', labels='inferred', image_size=(300, 300), validation_split=0.2, subset=\"validation\",\n",
    "seed=42, batch_size=64)"
   ]
  },
  {
   "cell_type": "code",
   "execution_count": 32,
   "metadata": {},
   "outputs": [
    {
     "name": "stdout",
     "output_type": "stream",
     "text": [
      "Nombre de classes : 50\n"
     ]
    },
    {
     "data": {
      "text/plain": [
       "['accipiter_gentilis',\n",
       " 'acrocephalus_agricola',\n",
       " 'anser_anser',\n",
       " 'apus_apus',\n",
       " 'ardea_alba',\n",
       " 'ardea_purpurea',\n",
       " 'asio_flammeus',\n",
       " 'aythya_collaris',\n",
       " 'bucephala_clangula',\n",
       " 'calidris_subminuta',\n",
       " 'cepphus_grylle',\n",
       " 'chersophilus_duponti',\n",
       " 'coccyzus_erythropthalmus',\n",
       " 'curruca_communis',\n",
       " 'cygnus_atratus',\n",
       " 'dendrocopos_leucotos',\n",
       " 'elanus_caeruleus',\n",
       " 'emberiza_bruniceps',\n",
       " 'emberiza_hortulana',\n",
       " 'emberiza_rustica',\n",
       " 'euodice_malabarica',\n",
       " 'falco_concolor',\n",
       " 'glaucidium_passerinum',\n",
       " 'iduna_rama',\n",
       " 'larus_delawarensis',\n",
       " 'locustella_lanceolata',\n",
       " 'locustella_naevia',\n",
       " 'mergus_serrator',\n",
       " 'oenanthe_isabellina',\n",
       " 'oenanthe_oenanthe',\n",
       " 'phalaropus_fulicaria',\n",
       " 'phoenicopterus_roseus',\n",
       " 'porphyrio_porphyrio',\n",
       " 'psittacula_krameri',\n",
       " 'puffinus_mauretanicus',\n",
       " 'regulus_ignicapillus',\n",
       " 'remiz_pendulinus',\n",
       " 'saxicola_maurus',\n",
       " 'setophaga_ruticilla',\n",
       " 'spatula_clypeata',\n",
       " 'thalassarche_melanophris',\n",
       " 'thalasseus_bengalensis',\n",
       " 'thalasseus_elegans',\n",
       " 'tringa_erythropus',\n",
       " 'troglodytes_troglodytes',\n",
       " 'tyto_alba',\n",
       " 'vanellus_gregarius',\n",
       " 'vireo_olivaceus',\n",
       " 'xenus_cinereus',\n",
       " 'zoothera_dauma']"
      ]
     },
     "execution_count": 32,
     "metadata": {},
     "output_type": "execute_result"
    }
   ],
   "source": [
    "# Obtenir le nombre de classes à partir de ds\n",
    "num_classes = len(ds_train.class_names)\n",
    "\n",
    "print('Nombre de classes :', num_classes)"
   ]
  },
  {
   "cell_type": "code",
   "execution_count": 23,
   "metadata": {},
   "outputs": [],
   "source": [
    "import tensorflow as tf\n",
    "\n",
    "# Convertir les étiquettes cibles en vecteurs one-hot\n",
    "ds_train = ds_train.map(lambda x, y: (x, tf.one_hot(y, num_classes)))\n",
    "ds_test = ds_test.map(lambda x, y: (x, tf.one_hot(y, num_classes)))"
   ]
  },
  {
   "cell_type": "code",
   "execution_count": 24,
   "metadata": {},
   "outputs": [
    {
     "name": "stdout",
     "output_type": "stream",
     "text": [
      "Epoch 1/10\n",
      "\u001b[1m63/63\u001b[0m \u001b[32m━━━━━━━━━━━━━━━━━━━━\u001b[0m\u001b[37m\u001b[0m \u001b[1m137s\u001b[0m 2s/step - accuracy: 0.0849 - loss: 3.6921 - val_accuracy: 0.3110 - val_loss: 2.7636\n",
      "Epoch 2/10\n",
      "\u001b[1m63/63\u001b[0m \u001b[32m━━━━━━━━━━━━━━━━━━━━\u001b[0m\u001b[37m\u001b[0m \u001b[1m112s\u001b[0m 2s/step - accuracy: 0.3994 - loss: 2.3524 - val_accuracy: 0.4940 - val_loss: 1.9018\n",
      "Epoch 3/10\n",
      "\u001b[1m63/63\u001b[0m \u001b[32m━━━━━━━━━━━━━━━━━━━━\u001b[0m\u001b[37m\u001b[0m \u001b[1m114s\u001b[0m 2s/step - accuracy: 0.6020 - loss: 1.5658 - val_accuracy: 0.5900 - val_loss: 1.4933\n",
      "Epoch 4/10\n",
      "\u001b[1m63/63\u001b[0m \u001b[32m━━━━━━━━━━━━━━━━━━━━\u001b[0m\u001b[37m\u001b[0m \u001b[1m104s\u001b[0m 2s/step - accuracy: 0.7031 - loss: 1.1944 - val_accuracy: 0.6340 - val_loss: 1.3081\n",
      "Epoch 5/10\n",
      "\u001b[1m63/63\u001b[0m \u001b[32m━━━━━━━━━━━━━━━━━━━━\u001b[0m\u001b[37m\u001b[0m \u001b[1m108s\u001b[0m 2s/step - accuracy: 0.7537 - loss: 0.9636 - val_accuracy: 0.6640 - val_loss: 1.1964\n",
      "Epoch 6/10\n",
      "\u001b[1m63/63\u001b[0m \u001b[32m━━━━━━━━━━━━━━━━━━━━\u001b[0m\u001b[37m\u001b[0m \u001b[1m108s\u001b[0m 2s/step - accuracy: 0.7979 - loss: 0.8067 - val_accuracy: 0.6700 - val_loss: 1.1083\n",
      "Epoch 7/10\n",
      "\u001b[1m63/63\u001b[0m \u001b[32m━━━━━━━━━━━━━━━━━━━━\u001b[0m\u001b[37m\u001b[0m \u001b[1m109s\u001b[0m 2s/step - accuracy: 0.8305 - loss: 0.6869 - val_accuracy: 0.6860 - val_loss: 1.0915\n",
      "Epoch 8/10\n",
      "\u001b[1m63/63\u001b[0m \u001b[32m━━━━━━━━━━━━━━━━━━━━\u001b[0m\u001b[37m\u001b[0m \u001b[1m107s\u001b[0m 2s/step - accuracy: 0.8577 - loss: 0.6027 - val_accuracy: 0.7140 - val_loss: 1.0029\n",
      "Epoch 9/10\n",
      "\u001b[1m63/63\u001b[0m \u001b[32m━━━━━━━━━━━━━━━━━━━━\u001b[0m\u001b[37m\u001b[0m \u001b[1m108s\u001b[0m 2s/step - accuracy: 0.8634 - loss: 0.5480 - val_accuracy: 0.7200 - val_loss: 0.9957\n",
      "Epoch 10/10\n",
      "\u001b[1m63/63\u001b[0m \u001b[32m━━━━━━━━━━━━━━━━━━━━\u001b[0m\u001b[37m\u001b[0m \u001b[1m110s\u001b[0m 2s/step - accuracy: 0.8926 - loss: 0.4751 - val_accuracy: 0.7190 - val_loss: 0.9735\n"
     ]
    }
   ],
   "source": [
    "import tensorflow as tf\n",
    "from tensorflow.keras.layers import Dense, GlobalAveragePooling2D\n",
    "from tensorflow.keras.models import Model\n",
    "from tensorflow.keras.callbacks import EarlyStopping\n",
    "from tensorflow.keras.callbacks import TensorBoard\n",
    "\n",
    "tf.config.list_physical_devices()\n",
    "\n",
    "# Charger le modèle ResNet50 pré-entraîné avec les poids ImageNet\n",
    "base_model = tf.keras.applications.ResNet50(weights='imagenet', include_top=False, input_shape=(300, 300, 3))\n",
    "\n",
    "# Ajouter une couche de pooling global pour réduire la dimensionalité\n",
    "x = base_model.output\n",
    "x_2 = GlobalAveragePooling2D()(x)\n",
    "\n",
    "x_3 = Dense(num_classes, activation='relu')(x_2)\n",
    "\n",
    "# Ajouter une couche dense pour effectuer la classification\n",
    "output = Dense(num_classes, activation='softmax')(x_3)\n",
    "\n",
    "# Créer le modèle final en combinant le modèle de base et les couches supplémentaires\n",
    "model = Model(inputs=base_model.input, outputs=output)\n",
    "\n",
    "# Geler les couches du modèle de base pour éviter de les entraîner\n",
    "for layer in base_model.layers:\n",
    "    layer.trainable = False\n",
    "\n",
    "# Compiler le modèle\n",
    "model.compile(optimizer='adam', loss='categorical_crossentropy', metrics=['accuracy'])\n",
    "\n",
    "callbacks = [EarlyStopping(monitor='val_loss', patience=10),\n",
    "             TensorBoard(log_dir='./logs/relu', histogram_freq=0, write_graph=True, write_images=True)]\n",
    "\n",
    "# Entraîner le modèle sur votre dataset avec le callback personnalisé\n",
    "\n",
    "model.fit(ds_train, epochs=10, callbacks=callbacks, validation_data=ds_test)"
   ]
  },
  {
   "cell_type": "code",
   "execution_count": 36,
   "metadata": {},
   "outputs": [],
   "source": [
    "model.save_weights('current_model.weights.h5')"
   ]
  },
  {
   "cell_type": "code",
   "execution_count": 33,
   "metadata": {},
   "outputs": [],
   "source": [
    "import json\n",
    "\n",
    "# Stocker les noms de classes dans une liste\n",
    "class_names = ds_train.class_names\n",
    "\n",
    "# Stocker la liste dans un fichier JSON\n",
    "with open('class_names.json', 'w') as f:\n",
    "    json.dump(class_names, f)"
   ]
  },
  {
   "cell_type": "code",
   "execution_count": null,
   "metadata": {},
   "outputs": [],
   "source": [
    "from sklearn.metrics import confusion_matrix\n",
    "\n",
    "y_pred = model.predict(ds_test)\n",
    "y_pred_classes = np.argmax(y_pred, axis=1)\n",
    "y_true_classes = np.argmax(ds_test.labels, axis=1)\n",
    "conf_matrix = confusion_matrix(y_true_classes, y_pred_classes)\n",
    "precision_by_class = conf_matrix.diagonal() / conf_matrix.sum(axis=1)\n",
    "for i, class_name in enumerate(class_names):\n",
    "    print(f\"Precision for {class_name}: {precision_by_class[i]:.4f}\")"
   ]
  }
 ],
 "metadata": {
  "kernelspec": {
   "display_name": ".venv",
   "language": "python",
   "name": "python3"
  },
  "language_info": {
   "codemirror_mode": {
    "name": "ipython",
    "version": 3
   },
   "file_extension": ".py",
   "mimetype": "text/x-python",
   "name": "python",
   "nbconvert_exporter": "python",
   "pygments_lexer": "ipython3",
   "version": "3.10.12"
  }
 },
 "nbformat": 4,
 "nbformat_minor": 2
}
