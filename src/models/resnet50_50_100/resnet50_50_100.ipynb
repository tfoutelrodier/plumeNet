{
 "cells": [
  {
   "cell_type": "code",
   "execution_count": 4,
   "metadata": {},
   "outputs": [],
   "source": [
    "import json\n",
    "import numpy as np\n",
    "import tensorflow as tf\n",
    "import keras\n",
    "from keras.utils import image_dataset_from_directory\n",
    "from tensorflow.keras.callbacks import EarlyStopping, TensorBoard\n",
    "from tensorflow.keras.layers import Dense, GlobalAveragePooling2D\n",
    "from tensorflow.keras.models import Model\n",
    "from tensorflow.keras.optimizers import Adam"
   ]
  },
  {
   "cell_type": "markdown",
   "metadata": {},
   "source": [
    "# WITH PREPROCESSING"
   ]
  },
  {
   "cell_type": "code",
   "execution_count": 5,
   "metadata": {},
   "outputs": [
    {
     "name": "stdout",
     "output_type": "stream",
     "text": [
      "Found 5000 files belonging to 50 classes.\n",
      "Using 4000 files for training.\n",
      "Found 5000 files belonging to 50 classes.\n",
      "Using 1000 files for validation.\n"
     ]
    }
   ],
   "source": [
    "ds_train = image_dataset_from_directory('../data/french_bird_db_50_100', labels='inferred', image_size=(300, 300), validation_split=0.2, subset=\"training\",\n",
    "seed=42, batch_size=64)\n",
    "\n",
    "ds_test = image_dataset_from_directory('../data/french_bird_db_50_100', labels='inferred', image_size=(300, 300), validation_split=0.2, subset=\"validation\",\n",
    "seed=42, batch_size=64)"
   ]
  },
  {
   "cell_type": "code",
   "execution_count": 6,
   "metadata": {},
   "outputs": [],
   "source": [
    "class_names = ds_train.class_names\n",
    "num_classes = len(ds_train.class_names)\n",
    "with open('class_names.json', 'w') as f:\n",
    "    json.dump(class_names, f)"
   ]
  },
  {
   "cell_type": "code",
   "execution_count": 7,
   "metadata": {},
   "outputs": [],
   "source": [
    "# preprocessing\n",
    "preprocess_input = tf.keras.applications.resnet50.preprocess_input\n",
    "\n",
    "ds_train_preprocessed = ds_train.map(lambda x, y: (preprocess_input(x), y))\n",
    "ds_test_preprocessed = ds_test.map(lambda x, y: (preprocess_input(x), y))\n"
   ]
  },
  {
   "cell_type": "code",
   "execution_count": 8,
   "metadata": {},
   "outputs": [
    {
     "name": "stdout",
     "output_type": "stream",
     "text": [
      "Epoch 1/10\n"
     ]
    },
    {
     "name": "stderr",
     "output_type": "stream",
     "text": [
      "2024-07-03 15:54:57.074186: I tensorflow/core/grappler/optimizers/custom_graph_optimizer_registry.cc:117] Plugin optimizer for device_type GPU is enabled.\n"
     ]
    },
    {
     "name": "stdout",
     "output_type": "stream",
     "text": [
      "\u001b[1m63/63\u001b[0m \u001b[32m━━━━━━━━━━━━━━━━━━━━\u001b[0m\u001b[37m\u001b[0m \u001b[1m115s\u001b[0m 2s/step - loss: 3.5502 - sparse_categorical_accuracy: 0.1395 - val_loss: 2.1426 - val_sparse_categorical_accuracy: 0.5000\n",
      "Epoch 2/10\n",
      "\u001b[1m63/63\u001b[0m \u001b[32m━━━━━━━━━━━━━━━━━━━━\u001b[0m\u001b[37m\u001b[0m \u001b[1m112s\u001b[0m 2s/step - loss: 1.7419 - sparse_categorical_accuracy: 0.6069 - val_loss: 1.2994 - val_sparse_categorical_accuracy: 0.6590\n",
      "Epoch 3/10\n",
      "\u001b[1m63/63\u001b[0m \u001b[32m━━━━━━━━━━━━━━━━━━━━\u001b[0m\u001b[37m\u001b[0m \u001b[1m111s\u001b[0m 2s/step - loss: 1.0402 - sparse_categorical_accuracy: 0.7627 - val_loss: 1.0058 - val_sparse_categorical_accuracy: 0.7360\n",
      "Epoch 4/10\n",
      "\u001b[1m63/63\u001b[0m \u001b[32m━━━━━━━━━━━━━━━━━━━━\u001b[0m\u001b[37m\u001b[0m \u001b[1m109s\u001b[0m 2s/step - loss: 0.7313 - sparse_categorical_accuracy: 0.8294 - val_loss: 0.8393 - val_sparse_categorical_accuracy: 0.7850\n",
      "Epoch 5/10\n",
      "\u001b[1m63/63\u001b[0m \u001b[32m━━━━━━━━━━━━━━━━━━━━\u001b[0m\u001b[37m\u001b[0m \u001b[1m109s\u001b[0m 2s/step - loss: 0.5620 - sparse_categorical_accuracy: 0.8830 - val_loss: 0.7889 - val_sparse_categorical_accuracy: 0.7800\n",
      "Epoch 6/10\n",
      "\u001b[1m63/63\u001b[0m \u001b[32m━━━━━━━━━━━━━━━━━━━━\u001b[0m\u001b[37m\u001b[0m \u001b[1m111s\u001b[0m 2s/step - loss: 0.4507 - sparse_categorical_accuracy: 0.9051 - val_loss: 0.7293 - val_sparse_categorical_accuracy: 0.8060\n",
      "Epoch 7/10\n",
      "\u001b[1m63/63\u001b[0m \u001b[32m━━━━━━━━━━━━━━━━━━━━\u001b[0m\u001b[37m\u001b[0m \u001b[1m143s\u001b[0m 2s/step - loss: 0.3621 - sparse_categorical_accuracy: 0.9246 - val_loss: 0.7024 - val_sparse_categorical_accuracy: 0.8060\n",
      "Epoch 8/10\n",
      "\u001b[1m63/63\u001b[0m \u001b[32m━━━━━━━━━━━━━━━━━━━━\u001b[0m\u001b[37m\u001b[0m \u001b[1m111s\u001b[0m 2s/step - loss: 0.2921 - sparse_categorical_accuracy: 0.9455 - val_loss: 0.6761 - val_sparse_categorical_accuracy: 0.8180\n",
      "Epoch 9/10\n",
      "\u001b[1m63/63\u001b[0m \u001b[32m━━━━━━━━━━━━━━━━━━━━\u001b[0m\u001b[37m\u001b[0m \u001b[1m119s\u001b[0m 2s/step - loss: 0.2463 - sparse_categorical_accuracy: 0.9579 - val_loss: 0.6566 - val_sparse_categorical_accuracy: 0.8120\n",
      "Epoch 10/10\n",
      "\u001b[1m63/63\u001b[0m \u001b[32m━━━━━━━━━━━━━━━━━━━━\u001b[0m\u001b[37m\u001b[0m \u001b[1m110s\u001b[0m 2s/step - loss: 0.2126 - sparse_categorical_accuracy: 0.9663 - val_loss: 0.6483 - val_sparse_categorical_accuracy: 0.8140\n"
     ]
    }
   ],
   "source": [
    "tf.config.list_physical_devices()\n",
    "\n",
    "# Charger le modèle ResNet50 pré-entraîné avec les poids ImageNet\n",
    "base_model = tf.keras.applications.ResNet50(weights='imagenet', include_top=False, input_shape=(300, 300, 3))\n",
    "\n",
    "# Ajouter une couche de pooling global pour réduire la dimensionalité\n",
    "x = base_model.output\n",
    "x_2 = GlobalAveragePooling2D()(x)\n",
    "\n",
    "x_3 = Dense(num_classes, activation='relu')(x_2)\n",
    "\n",
    "# Ajouter une couche dense pour effectuer la classification\n",
    "output = Dense(num_classes, activation='softmax')(x_3)\n",
    "\n",
    "# Créer le modèle final en combinant le modèle de base et les couches supplémentaires\n",
    "model = Model(inputs=base_model.input, outputs=output)\n",
    "\n",
    "# Geler les couches du modèle de base pour éviter de les entraîner\n",
    "for layer in base_model.layers:\n",
    "    layer.trainable = False\n",
    "\n",
    "# Compiler le modèle\n",
    "model.compile(optimizer=Adam(learning_rate=0.001), \n",
    "              loss=tf.keras.losses.SparseCategoricalCrossentropy(from_logits=False),\n",
    "              metrics=[keras.metrics.SparseCategoricalAccuracy()])\n",
    "\n",
    "callbacks = [EarlyStopping(monitor='val_loss', patience=10)]\n",
    "\n",
    "\n",
    "# Entraîner le modèle sur votre dataset avec le callback personnalisé\n",
    "history = model.fit(ds_train_preprocessed, epochs=10, callbacks=callbacks, validation_data=ds_test_preprocessed)"
   ]
  },
  {
   "cell_type": "code",
   "execution_count": 13,
   "metadata": {},
   "outputs": [],
   "source": [
    "model.save_weights('current_model.weights.h5')"
   ]
  },
  {
   "cell_type": "code",
   "execution_count": 39,
   "metadata": {},
   "outputs": [
    {
     "name": "stdout",
     "output_type": "stream",
     "text": [
      "(300, 300, 3)\n",
      "\u001b[1m1/1\u001b[0m \u001b[32m━━━━━━━━━━━━━━━━━━━━\u001b[0m\u001b[37m\u001b[0m \u001b[1m0s\u001b[0m 61ms/step\n",
      "0 accipiter_gentilis\n"
     ]
    }
   ],
   "source": [
    "image_test = keras.utils.load_img(\n",
    "    '../data/french_bird_db_50_100/apus_apus/apus_apus_10.jpg',\n",
    ")\n",
    "\n",
    "image_array = keras.utils.img_to_array(image_test)\n",
    "\n",
    "image_processed = preprocess_input(image_array)\n",
    "# ds_train_preprocessed = ds_train.map(lambda x, y: (preprocess_input(x), y))\n",
    "print(image_processed.shape)\n",
    "\n",
    "test = np.argmax(model.predict(np.expand_dims(image_processed, axis=0)))\n",
    "\n",
    "print(test, class_names[test])"
   ]
  },
  {
   "cell_type": "code",
   "execution_count": 14,
   "metadata": {},
   "outputs": [
    {
     "name": "stdout",
     "output_type": "stream",
     "text": [
      "\u001b[1m2/2\u001b[0m \u001b[32m━━━━━━━━━━━━━━━━━━━━\u001b[0m\u001b[37m\u001b[0m \u001b[1m1s\u001b[0m 711ms/step\n",
      "[41 32 36 44 35 31  4 28 33 12 13  9 14 31 28 23  7 41 21 10 11  8 46  5\n",
      "  1 16 12 13 39 46 25  2 36 48 28  5 14 19 34 11 43 25 41 20  8 15 48 27\n",
      " 35  6 26 22 14 28 37 18  5 14  2 30 39 13 28 31]\n",
      "tf.Tensor(\n",
      "[41 32 36 44 35 31  4 28 33 12 13  9 14 31 28 23  7 41 21 10 11  8 46  5\n",
      "  1 16 12 13 39 46 25  2 36 48 28  5 14 19 34 11 43 25 41 20  8 15 48 27\n",
      " 35  6 26 22 14 28 37 18  5 14  2 30 39 13 28 31], shape=(64,), dtype=int32)\n"
     ]
    }
   ],
   "source": [
    "for image_batch, labels_batch in ds_train_preprocessed:\n",
    "  batch_pred = model.predict(image_batch)\n",
    "  class_pred = np.argmax(batch_pred, axis=1)\n",
    "  print(class_pred)\n",
    "  print(labels_batch)\n",
    "  break"
   ]
  },
  {
   "cell_type": "code",
   "execution_count": 15,
   "metadata": {},
   "outputs": [
    {
     "name": "stdout",
     "output_type": "stream",
     "text": [
      "\u001b[1m2/2\u001b[0m \u001b[32m━━━━━━━━━━━━━━━━━━━━\u001b[0m\u001b[37m\u001b[0m \u001b[1m1s\u001b[0m 683ms/step\n",
      "batch No 0 with result:  89.0625 %\n",
      "\u001b[1m2/2\u001b[0m \u001b[32m━━━━━━━━━━━━━━━━━━━━\u001b[0m\u001b[37m\u001b[0m \u001b[1m1s\u001b[0m 675ms/step\n",
      "batch No 1 with result:  76.5625 %\n",
      "\u001b[1m2/2\u001b[0m \u001b[32m━━━━━━━━━━━━━━━━━━━━\u001b[0m\u001b[37m\u001b[0m \u001b[1m1s\u001b[0m 700ms/step\n",
      "batch No 2 with result:  75.0 %\n",
      "\u001b[1m2/2\u001b[0m \u001b[32m━━━━━━━━━━━━━━━━━━━━\u001b[0m\u001b[37m\u001b[0m \u001b[1m1s\u001b[0m 668ms/step\n",
      "batch No 3 with result:  84.375 %\n",
      "\u001b[1m2/2\u001b[0m \u001b[32m━━━━━━━━━━━━━━━━━━━━\u001b[0m\u001b[37m\u001b[0m \u001b[1m1s\u001b[0m 660ms/step\n",
      "batch No 4 with result:  87.5 %\n",
      "\u001b[1m2/2\u001b[0m \u001b[32m━━━━━━━━━━━━━━━━━━━━\u001b[0m\u001b[37m\u001b[0m \u001b[1m1s\u001b[0m 710ms/step\n",
      "batch No 5 with result:  76.5625 %\n",
      "\u001b[1m2/2\u001b[0m \u001b[32m━━━━━━━━━━━━━━━━━━━━\u001b[0m\u001b[37m\u001b[0m \u001b[1m1s\u001b[0m 767ms/step\n",
      "batch No 6 with result:  84.375 %\n",
      "\u001b[1m2/2\u001b[0m \u001b[32m━━━━━━━━━━━━━━━━━━━━\u001b[0m\u001b[37m\u001b[0m \u001b[1m1s\u001b[0m 710ms/step\n",
      "batch No 7 with result:  75.0 %\n",
      "\u001b[1m2/2\u001b[0m \u001b[32m━━━━━━━━━━━━━━━━━━━━\u001b[0m\u001b[37m\u001b[0m \u001b[1m1s\u001b[0m 691ms/step\n",
      "batch No 8 with result:  82.8125 %\n",
      "\u001b[1m2/2\u001b[0m \u001b[32m━━━━━━━━━━━━━━━━━━━━\u001b[0m\u001b[37m\u001b[0m \u001b[1m1s\u001b[0m 669ms/step\n",
      "batch No 9 with result:  85.9375 %\n",
      "\u001b[1m2/2\u001b[0m \u001b[32m━━━━━━━━━━━━━━━━━━━━\u001b[0m\u001b[37m\u001b[0m \u001b[1m1s\u001b[0m 666ms/step\n",
      "batch No 10 with result:  82.8125 %\n",
      "\u001b[1m2/2\u001b[0m \u001b[32m━━━━━━━━━━━━━━━━━━━━\u001b[0m\u001b[37m\u001b[0m \u001b[1m1s\u001b[0m 667ms/step\n",
      "batch No 11 with result:  73.4375 %\n",
      "\u001b[1m2/2\u001b[0m \u001b[32m━━━━━━━━━━━━━━━━━━━━\u001b[0m\u001b[37m\u001b[0m \u001b[1m1s\u001b[0m 685ms/step\n",
      "batch No 12 with result:  73.4375 %\n",
      "\u001b[1m2/2\u001b[0m \u001b[32m━━━━━━━━━━━━━━━━━━━━\u001b[0m\u001b[37m\u001b[0m \u001b[1m1s\u001b[0m 672ms/step\n",
      "batch No 13 with result:  78.125 %\n",
      "\u001b[1m2/2\u001b[0m \u001b[32m━━━━━━━━━━━━━━━━━━━━\u001b[0m\u001b[37m\u001b[0m \u001b[1m1s\u001b[0m 760ms/step\n",
      "batch No 14 with result:  85.9375 %\n",
      "\u001b[1m2/2\u001b[0m \u001b[32m━━━━━━━━━━━━━━━━━━━━\u001b[0m\u001b[37m\u001b[0m \u001b[1m1s\u001b[0m 663ms/step\n",
      "batch No 15 with result:  97.5 %\n",
      "FINAL RES =  0.8177734375\n"
     ]
    },
    {
     "name": "stderr",
     "output_type": "stream",
     "text": [
      "2024-07-03 16:18:06.644930: W tensorflow/core/framework/local_rendezvous.cc:404] Local rendezvous is aborting with status: OUT_OF_RANGE: End of sequence\n"
     ]
    }
   ],
   "source": [
    "total = 0\n",
    "for i, (image_batch, labels_batch) in enumerate(ds_test_preprocessed):\n",
    "  batch_pred = model.predict(image_batch)\n",
    "  class_pred = np.argmax(batch_pred, axis=1)\n",
    "  res = sum((class_pred == labels_batch).numpy()) / len(class_pred)\n",
    "  total += res\n",
    "  \n",
    "  print('batch No {} with result: '.format(i), res * 100, '%')\n",
    "  \n",
    "print('FINAL RES = ', total / len(ds_test_preprocessed))"
   ]
  }
 ],
 "metadata": {
  "kernelspec": {
   "display_name": ".venv",
   "language": "python",
   "name": "python3"
  },
  "language_info": {
   "codemirror_mode": {
    "name": "ipython",
    "version": 3
   },
   "file_extension": ".py",
   "mimetype": "text/x-python",
   "name": "python",
   "nbconvert_exporter": "python",
   "pygments_lexer": "ipython3",
   "version": "3.10.12"
  }
 },
 "nbformat": 4,
 "nbformat_minor": 2
}
