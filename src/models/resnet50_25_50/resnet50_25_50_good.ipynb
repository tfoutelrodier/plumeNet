{
 "cells": [
  {
   "cell_type": "code",
   "execution_count": 2,
   "metadata": {},
   "outputs": [],
   "source": [
    "import os\n",
    "import numpy as np\n",
    "from keras.utils import image_dataset_from_directory\n",
    "from tensorflow.keras.callbacks import EarlyStopping, TensorBoard\n",
    "import tensorflow as tf\n",
    "import keras\n",
    "from tensorflow.keras.layers import Dense, GlobalAveragePooling2D\n",
    "from tensorflow.keras.models import Model\n",
    "from tensorflow.keras.optimizers import Adam"
   ]
  },
  {
   "cell_type": "markdown",
   "metadata": {},
   "source": [
    "# WITH PREPROCESSING"
   ]
  },
  {
   "cell_type": "code",
   "execution_count": 5,
   "metadata": {},
   "outputs": [
    {
     "name": "stdout",
     "output_type": "stream",
     "text": [
      "Found 1250 files belonging to 25 classes.\n",
      "Using 1000 files for training.\n",
      "Found 1250 files belonging to 25 classes.\n",
      "Using 250 files for validation.\n"
     ]
    }
   ],
   "source": [
    "ds_train2 = image_dataset_from_directory('../data/french_bird_db_25_50', labels='inferred', image_size=(300, 300), validation_split=0.2, subset=\"training\",\n",
    "seed=42, batch_size=64)\n",
    "\n",
    "ds_test2 = image_dataset_from_directory('../data/french_bird_db_25_50', labels='inferred', image_size=(300, 300), validation_split=0.2, subset=\"validation\",\n",
    "seed=42, batch_size=64)"
   ]
  },
  {
   "cell_type": "code",
   "execution_count": 6,
   "metadata": {},
   "outputs": [],
   "source": [
    "class_names = ds_train2.class_names\n",
    "num_classes = len(ds_train2.class_names)"
   ]
  },
  {
   "cell_type": "code",
   "execution_count": 9,
   "metadata": {},
   "outputs": [],
   "source": [
    "# preprocessing\n",
    "preprocess_input = tf.keras.applications.resnet50.preprocess_input\n",
    "\n",
    "ds_train2_preprocessed = ds_train2.map(lambda x, y: (preprocess_input(x), y))\n",
    "ds_test2_preprocessed = ds_test2.map(lambda x, y: (preprocess_input(x), y))\n"
   ]
  },
  {
   "cell_type": "code",
   "execution_count": 10,
   "metadata": {},
   "outputs": [
    {
     "name": "stdout",
     "output_type": "stream",
     "text": [
      "Epoch 1/10\n",
      "\u001b[1m16/16\u001b[0m \u001b[32m━━━━━━━━━━━━━━━━━━━━\u001b[0m\u001b[37m\u001b[0m \u001b[1m36s\u001b[0m 2s/step - loss: 3.1828 - sparse_categorical_accuracy: 0.0714 - val_loss: 2.8948 - val_sparse_categorical_accuracy: 0.1720\n",
      "Epoch 2/10\n",
      "\u001b[1m16/16\u001b[0m \u001b[32m━━━━━━━━━━━━━━━━━━━━\u001b[0m\u001b[37m\u001b[0m \u001b[1m29s\u001b[0m 2s/step - loss: 2.6771 - sparse_categorical_accuracy: 0.2618 - val_loss: 2.4217 - val_sparse_categorical_accuracy: 0.3480\n",
      "Epoch 3/10\n",
      "\u001b[1m16/16\u001b[0m \u001b[32m━━━━━━━━━━━━━━━━━━━━\u001b[0m\u001b[37m\u001b[0m \u001b[1m29s\u001b[0m 2s/step - loss: 2.2065 - sparse_categorical_accuracy: 0.4699 - val_loss: 1.9415 - val_sparse_categorical_accuracy: 0.5320\n",
      "Epoch 4/10\n",
      "\u001b[1m16/16\u001b[0m \u001b[32m━━━━━━━━━━━━━━━━━━━━\u001b[0m\u001b[37m\u001b[0m \u001b[1m28s\u001b[0m 2s/step - loss: 1.7003 - sparse_categorical_accuracy: 0.5928 - val_loss: 1.5792 - val_sparse_categorical_accuracy: 0.6560\n",
      "Epoch 5/10\n",
      "\u001b[1m16/16\u001b[0m \u001b[32m━━━━━━━━━━━━━━━━━━━━\u001b[0m\u001b[37m\u001b[0m \u001b[1m28s\u001b[0m 2s/step - loss: 1.2798 - sparse_categorical_accuracy: 0.7471 - val_loss: 1.2663 - val_sparse_categorical_accuracy: 0.7360\n",
      "Epoch 6/10\n",
      "\u001b[1m16/16\u001b[0m \u001b[32m━━━━━━━━━━━━━━━━━━━━\u001b[0m\u001b[37m\u001b[0m \u001b[1m29s\u001b[0m 2s/step - loss: 0.9369 - sparse_categorical_accuracy: 0.8365 - val_loss: 1.0589 - val_sparse_categorical_accuracy: 0.7800\n",
      "Epoch 7/10\n",
      "\u001b[1m16/16\u001b[0m \u001b[32m━━━━━━━━━━━━━━━━━━━━\u001b[0m\u001b[37m\u001b[0m \u001b[1m27s\u001b[0m 2s/step - loss: 0.7152 - sparse_categorical_accuracy: 0.8959 - val_loss: 0.8988 - val_sparse_categorical_accuracy: 0.7800\n",
      "Epoch 8/10\n",
      "\u001b[1m16/16\u001b[0m \u001b[32m━━━━━━━━━━━━━━━━━━━━\u001b[0m\u001b[37m\u001b[0m \u001b[1m29s\u001b[0m 2s/step - loss: 0.5660 - sparse_categorical_accuracy: 0.9202 - val_loss: 0.8185 - val_sparse_categorical_accuracy: 0.7920\n",
      "Epoch 9/10\n",
      "\u001b[1m16/16\u001b[0m \u001b[32m━━━━━━━━━━━━━━━━━━━━\u001b[0m\u001b[37m\u001b[0m \u001b[1m29s\u001b[0m 2s/step - loss: 0.4789 - sparse_categorical_accuracy: 0.9346 - val_loss: 0.7498 - val_sparse_categorical_accuracy: 0.8200\n",
      "Epoch 10/10\n",
      "\u001b[1m16/16\u001b[0m \u001b[32m━━━━━━━━━━━━━━━━━━━━\u001b[0m\u001b[37m\u001b[0m \u001b[1m28s\u001b[0m 2s/step - loss: 0.3974 - sparse_categorical_accuracy: 0.9485 - val_loss: 0.7050 - val_sparse_categorical_accuracy: 0.8200\n"
     ]
    }
   ],
   "source": [
    "tf.config.list_physical_devices()\n",
    "\n",
    "# Charger le modèle ResNet50 pré-entraîné avec les poids ImageNet\n",
    "base_model = tf.keras.applications.ResNet50(weights='imagenet', include_top=False, input_shape=(300, 300, 3))\n",
    "\n",
    "# Ajouter une couche de pooling global pour réduire la dimensionalité\n",
    "x = base_model.output\n",
    "x_2 = GlobalAveragePooling2D()(x)\n",
    "\n",
    "x_3 = Dense(num_classes, activation='relu')(x_2)\n",
    "\n",
    "# Ajouter une couche dense pour effectuer la classification\n",
    "output = Dense(num_classes, activation='softmax')(x_3)\n",
    "\n",
    "# Créer le modèle final en combinant le modèle de base et les couches supplémentaires\n",
    "model2 = Model(inputs=base_model.input, outputs=output)\n",
    "\n",
    "# Geler les couches du modèle de base pour éviter de les entraîner\n",
    "for layer in base_model.layers:\n",
    "    layer.trainable = False\n",
    "\n",
    "# Compiler le modèle\n",
    "# model2.compile(optimizer='adam', loss='categorical_crossentropy', metrics=['accuracy'])\n",
    "model2.compile(optimizer=Adam(learning_rate=0.001), \n",
    "              loss=tf.keras.losses.SparseCategoricalCrossentropy(from_logits=False),\n",
    "              metrics=[keras.metrics.SparseCategoricalAccuracy()])\n",
    "\n",
    "callbacks = [EarlyStopping(monitor='val_loss', patience=10)]\n",
    "\n",
    "\n",
    "# Entraîner le modèle sur votre dataset avec le callback personnalisé\n",
    "\n",
    "history = model2.fit(ds_train2_preprocessed, epochs=10, callbacks=callbacks, validation_data=ds_test2_preprocessed)"
   ]
  },
  {
   "cell_type": "code",
   "execution_count": 15,
   "metadata": {},
   "outputs": [
    {
     "name": "stdout",
     "output_type": "stream",
     "text": [
      "\u001b[1m2/2\u001b[0m \u001b[32m━━━━━━━━━━━━━━━━━━━━\u001b[0m\u001b[37m\u001b[0m \u001b[1m1s\u001b[0m 722ms/step\n",
      "[ 2  8 14  8 21 13  8  6 15 16 21  7 23 18 19 11 12 11  7 16 24 20 10 22\n",
      " 16 22  3 20 23  9 13  9  8 23  7 19  2 23 10 18 11 10  2 13 21  1  4 21\n",
      " 23 24  3 17  4  9 22  0 19 16  8 11  4  4  5 22]\n",
      "tf.Tensor(\n",
      "[ 2  8 14  8 21 13  8  6 15 16 21  7 23 18 19 11 12 11  7 16 24 13 10 22\n",
      " 16 22  3 20 23  9 13  9  8 23  8 19  2  7  5 18 11 10  2 13 21  1  4 21\n",
      " 23 24  3 17  4  9 22  0 19 16  8 11  4  4  5 22], shape=(64,), dtype=int32)\n"
     ]
    }
   ],
   "source": [
    "for image_batch, labels_batch in ds_train2_preprocessed:\n",
    "  batch_pred = model2.predict(image_batch)\n",
    "  class_pred = np.argmax(batch_pred, axis=1)\n",
    "  print(class_pred)\n",
    "  print(labels_batch)\n",
    "  break"
   ]
  },
  {
   "cell_type": "code",
   "execution_count": 24,
   "metadata": {},
   "outputs": [
    {
     "name": "stdout",
     "output_type": "stream",
     "text": [
      "\u001b[1m2/2\u001b[0m \u001b[32m━━━━━━━━━━━━━━━━━━━━\u001b[0m\u001b[37m\u001b[0m \u001b[1m1s\u001b[0m 666ms/step\n",
      "batch No 0 with result:  79.6875 %\n",
      "\u001b[1m2/2\u001b[0m \u001b[32m━━━━━━━━━━━━━━━━━━━━\u001b[0m\u001b[37m\u001b[0m \u001b[1m1s\u001b[0m 661ms/step\n",
      "batch No 1 with result:  78.125 %\n",
      "\u001b[1m2/2\u001b[0m \u001b[32m━━━━━━━━━━━━━━━━━━━━\u001b[0m\u001b[37m\u001b[0m \u001b[1m1s\u001b[0m 663ms/step\n",
      "batch No 2 with result:  82.8125 %\n",
      "\u001b[1m2/2\u001b[0m \u001b[32m━━━━━━━━━━━━━━━━━━━━\u001b[0m\u001b[37m\u001b[0m \u001b[1m3s\u001b[0m 2s/step  \n",
      "batch No 3 with result:  87.93103448275862 %\n"
     ]
    },
    {
     "name": "stderr",
     "output_type": "stream",
     "text": [
      "2024-07-03 15:49:56.212735: W tensorflow/core/framework/local_rendezvous.cc:404] Local rendezvous is aborting with status: OUT_OF_RANGE: End of sequence\n"
     ]
    }
   ],
   "source": [
    "for i, (image_batch, labels_batch) in enumerate(ds_test2_preprocessed):\n",
    "  batch_pred = model2.predict(image_batch)\n",
    "  class_pred = np.argmax(batch_pred, axis=1)\n",
    "  \n",
    "  print('batch No {} with result: '.format(i), sum((class_pred == labels_batch).numpy()) / len(class_pred) * 100, '%')"
   ]
  }
 ],
 "metadata": {
  "kernelspec": {
   "display_name": ".venv",
   "language": "python",
   "name": "python3"
  },
  "language_info": {
   "codemirror_mode": {
    "name": "ipython",
    "version": 3
   },
   "file_extension": ".py",
   "mimetype": "text/x-python",
   "name": "python",
   "nbconvert_exporter": "python",
   "pygments_lexer": "ipython3",
   "version": "3.10.12"
  }
 },
 "nbformat": 4,
 "nbformat_minor": 2
}
