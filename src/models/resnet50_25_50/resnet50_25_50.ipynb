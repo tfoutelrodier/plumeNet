{
 "cells": [
  {
   "cell_type": "code",
   "execution_count": 14,
   "metadata": {},
   "outputs": [
    {
     "data": {
      "text/plain": [
       "[PhysicalDevice(name='/physical_device:CPU:0', device_type='CPU'),\n",
       " PhysicalDevice(name='/physical_device:GPU:0', device_type='GPU')]"
      ]
     },
     "execution_count": 14,
     "metadata": {},
     "output_type": "execute_result"
    }
   ],
   "source": [
    "import os\n",
    "import numpy as np\n",
    "from keras.utils import image_dataset_from_directory\n",
    "from tensorflow.keras.callbacks import EarlyStopping, TensorBoard\n",
    "import tensorflow as tf\n",
    "import keras\n",
    "from tensorflow.keras.layers import Dense, GlobalAveragePooling2D, Dropout\n",
    "from tensorflow.keras.models import Model\n",
    "from tensorflow.keras.optimizers import Adam\n",
    "\n",
    "tf.config.list_physical_devices()"
   ]
  },
  {
   "cell_type": "markdown",
   "metadata": {},
   "source": [
    "# WITH PREPROCESSING"
   ]
  },
  {
   "cell_type": "code",
   "execution_count": 6,
   "metadata": {},
   "outputs": [
    {
     "name": "stdout",
     "output_type": "stream",
     "text": [
      "Found 1250 files belonging to 25 classes.\n",
      "Using 1000 files for training.\n",
      "Found 1250 files belonging to 25 classes.\n",
      "Using 250 files for validation.\n"
     ]
    }
   ],
   "source": [
    "ds_train2 = image_dataset_from_directory('../data/french_bird_db_25_50', labels='inferred', image_size=(300, 300), validation_split=0.2, subset=\"training\",\n",
    "seed=42, batch_size=64)\n",
    "\n",
    "ds_test2 = image_dataset_from_directory('../data/french_bird_db_25_50', labels='inferred', image_size=(300, 300), validation_split=0.2, subset=\"validation\",\n",
    "seed=42, batch_size=64)"
   ]
  },
  {
   "cell_type": "code",
   "execution_count": 7,
   "metadata": {},
   "outputs": [],
   "source": [
    "class_names = ds_train2.class_names\n",
    "num_classes = len(ds_train2.class_names)"
   ]
  },
  {
   "cell_type": "code",
   "execution_count": 8,
   "metadata": {},
   "outputs": [],
   "source": [
    "# preprocessing\n",
    "preprocess_input = tf.keras.applications.resnet50.preprocess_input\n",
    "\n",
    "ds_train2_preprocessed = ds_train2.map(lambda x, y: (preprocess_input(x), y))\n",
    "ds_test2_preprocessed = ds_test2.map(lambda x, y: (preprocess_input(x), y))\n"
   ]
  },
  {
   "cell_type": "code",
   "execution_count": 16,
   "metadata": {},
   "outputs": [
    {
     "name": "stdout",
     "output_type": "stream",
     "text": [
      "Epoch 1/10\n",
      "\u001b[1m16/16\u001b[0m \u001b[32m━━━━━━━━━━━━━━━━━━━━\u001b[0m\u001b[37m\u001b[0m \u001b[1m47s\u001b[0m 2s/step - loss: 10.7411 - sparse_categorical_accuracy: 0.1501 - val_loss: 7.4827 - val_sparse_categorical_accuracy: 0.7040\n",
      "Epoch 2/10\n",
      "\u001b[1m16/16\u001b[0m \u001b[32m━━━━━━━━━━━━━━━━━━━━\u001b[0m\u001b[37m\u001b[0m \u001b[1m30s\u001b[0m 2s/step - loss: 7.0280 - sparse_categorical_accuracy: 0.6165 - val_loss: 5.3255 - val_sparse_categorical_accuracy: 0.7920\n",
      "Epoch 3/10\n",
      "\u001b[1m16/16\u001b[0m \u001b[32m━━━━━━━━━━━━━━━━━━━━\u001b[0m\u001b[37m\u001b[0m \u001b[1m29s\u001b[0m 2s/step - loss: 4.9476 - sparse_categorical_accuracy: 0.7728 - val_loss: 4.0346 - val_sparse_categorical_accuracy: 0.8200\n",
      "Epoch 4/10\n",
      "\u001b[1m16/16\u001b[0m \u001b[32m━━━━━━━━━━━━━━━━━━━━\u001b[0m\u001b[37m\u001b[0m \u001b[1m29s\u001b[0m 2s/step - loss: 3.7401 - sparse_categorical_accuracy: 0.8440 - val_loss: 3.2408 - val_sparse_categorical_accuracy: 0.8200\n",
      "Epoch 5/10\n",
      "\u001b[1m16/16\u001b[0m \u001b[32m━━━━━━━━━━━━━━━━━━━━\u001b[0m\u001b[37m\u001b[0m \u001b[1m30s\u001b[0m 2s/step - loss: 2.9821 - sparse_categorical_accuracy: 0.8652 - val_loss: 2.6582 - val_sparse_categorical_accuracy: 0.8680\n",
      "Epoch 6/10\n",
      "\u001b[1m16/16\u001b[0m \u001b[32m━━━━━━━━━━━━━━━━━━━━\u001b[0m\u001b[37m\u001b[0m \u001b[1m30s\u001b[0m 2s/step - loss: 2.4063 - sparse_categorical_accuracy: 0.8940 - val_loss: 2.2276 - val_sparse_categorical_accuracy: 0.8600\n",
      "Epoch 7/10\n",
      "\u001b[1m16/16\u001b[0m \u001b[32m━━━━━━━━━━━━━━━━━━━━\u001b[0m\u001b[37m\u001b[0m \u001b[1m29s\u001b[0m 2s/step - loss: 1.9798 - sparse_categorical_accuracy: 0.9209 - val_loss: 1.9274 - val_sparse_categorical_accuracy: 0.8880\n",
      "Epoch 8/10\n",
      "\u001b[1m16/16\u001b[0m \u001b[32m━━━━━━━━━━━━━━━━━━━━\u001b[0m\u001b[37m\u001b[0m \u001b[1m29s\u001b[0m 2s/step - loss: 1.6694 - sparse_categorical_accuracy: 0.9377 - val_loss: 1.7255 - val_sparse_categorical_accuracy: 0.8560\n",
      "Epoch 9/10\n",
      "\u001b[1m16/16\u001b[0m \u001b[32m━━━━━━━━━━━━━━━━━━━━\u001b[0m\u001b[37m\u001b[0m \u001b[1m29s\u001b[0m 2s/step - loss: 1.4413 - sparse_categorical_accuracy: 0.9341 - val_loss: 1.5533 - val_sparse_categorical_accuracy: 0.8440\n",
      "Epoch 10/10\n",
      "\u001b[1m16/16\u001b[0m \u001b[32m━━━━━━━━━━━━━━━━━━━━\u001b[0m\u001b[37m\u001b[0m \u001b[1m29s\u001b[0m 2s/step - loss: 1.2470 - sparse_categorical_accuracy: 0.9479 - val_loss: 1.3572 - val_sparse_categorical_accuracy: 0.8640\n"
     ]
    }
   ],
   "source": [
    "\n",
    "\n",
    "# Charger le modèle ResNet50 pré-entraîné avec les poids ImageNet\n",
    "base_model = tf.keras.applications.ResNet50(weights='imagenet', include_top=False, input_shape=(300, 300, 3))\n",
    "\n",
    "# Ajouter une couche de pooling global pour réduire la dimensionalité\n",
    "x = base_model.output\n",
    "x_2 = GlobalAveragePooling2D()(x)\n",
    "\n",
    "# x_3 = Dense(num_classes, activation='relu')(x_2)\n",
    "x_3 = Dense(512, activation='relu', kernel_regularizer=tf.keras.regularizers.l2(0.01))(x_2)\n",
    "x_3 = Dropout(0.5)(x_3)\n",
    "\n",
    "# Ajouter une couche dense pour effectuer la classification\n",
    "output = Dense(num_classes, activation='softmax')(x_3)\n",
    "\n",
    "# Créer le modèle final en combinant le modèle de base et les couches supplémentaires\n",
    "model2 = Model(inputs=base_model.input, outputs=output)\n",
    "\n",
    "# Geler les couches du modèle de base pour éviter de les entraîner\n",
    "for layer in base_model.layers:\n",
    "    layer.trainable = False\n",
    "\n",
    "# Compiler le modèle\n",
    "model2.compile(optimizer=Adam(learning_rate=0.001), \n",
    "              loss=tf.keras.losses.SparseCategoricalCrossentropy(from_logits=False),\n",
    "              metrics=[keras.metrics.SparseCategoricalAccuracy()])\n",
    "\n",
    "callbacks = [EarlyStopping(monitor='val_loss', patience=10)]\n",
    "\n",
    "\n",
    "# Entraîner le modèle sur votre dataset avec le callback personnalisé\n",
    "\n",
    "history = model2.fit(ds_train2_preprocessed, epochs=10, callbacks=callbacks, validation_data=ds_test2_preprocessed)"
   ]
  },
  {
   "cell_type": "code",
   "execution_count": 10,
   "metadata": {},
   "outputs": [
    {
     "name": "stdout",
     "output_type": "stream",
     "text": [
      "\u001b[1m2/2\u001b[0m \u001b[32m━━━━━━━━━━━━━━━━━━━━\u001b[0m\u001b[37m\u001b[0m \u001b[1m6s\u001b[0m 194ms/step\n",
      "[ 2 18 14  5 22  5 11  5  6 16  2 17  3  0  6 11  0 11 21 16  6  4  1 18\n",
      " 17 19 20  5 21 10 18  9 14 14 11  6  4 18 15  3 12 18 15  4 11 22 16  9\n",
      "  5  7 13  1  6 18  6  8  6 22  6  7 10  7 20  3]\n",
      "tf.Tensor(\n",
      "[ 2 18 14  6 22  5 11  5  6 16  2 17  3  0  6 11  0 11 21 16  6  4  1 18\n",
      " 17 19 20  5 21 10 18  9 14 14 11  6  4 18 15  3 12 18 15  4 11 22 16  9\n",
      "  5  7 13  1  6 18  6  8  6 22  6  7 10  8 20  3], shape=(64,), dtype=int32)\n"
     ]
    }
   ],
   "source": [
    "for image_batch, labels_batch in ds_train2_preprocessed:\n",
    "  batch_pred = model2.predict(image_batch)\n",
    "  class_pred = np.argmax(batch_pred, axis=1)\n",
    "  print(class_pred)\n",
    "  print(labels_batch)\n",
    "  break"
   ]
  },
  {
   "cell_type": "code",
   "execution_count": 11,
   "metadata": {},
   "outputs": [
    {
     "name": "stdout",
     "output_type": "stream",
     "text": [
      "\u001b[1m2/2\u001b[0m \u001b[32m━━━━━━━━━━━━━━━━━━━━\u001b[0m\u001b[37m\u001b[0m \u001b[1m1s\u001b[0m 661ms/step\n",
      "batch No 0 with result:  85.9375 %\n",
      "\u001b[1m2/2\u001b[0m \u001b[32m━━━━━━━━━━━━━━━━━━━━\u001b[0m\u001b[37m\u001b[0m \u001b[1m1s\u001b[0m 658ms/step\n",
      "batch No 1 with result:  84.375 %\n",
      "\u001b[1m2/2\u001b[0m \u001b[32m━━━━━━━━━━━━━━━━━━━━\u001b[0m\u001b[37m\u001b[0m \u001b[1m1s\u001b[0m 656ms/step\n",
      "batch No 2 with result:  89.0625 %\n",
      "\u001b[1m2/2\u001b[0m \u001b[32m━━━━━━━━━━━━━━━━━━━━\u001b[0m\u001b[37m\u001b[0m \u001b[1m6s\u001b[0m 6s/step  \n",
      "batch No 3 with result:  82.75862068965517 %\n"
     ]
    },
    {
     "name": "stderr",
     "output_type": "stream",
     "text": [
      "2024-07-03 16:53:12.729321: W tensorflow/core/framework/local_rendezvous.cc:404] Local rendezvous is aborting with status: OUT_OF_RANGE: End of sequence\n"
     ]
    }
   ],
   "source": [
    "for i, (image_batch, labels_batch) in enumerate(ds_test2_preprocessed):\n",
    "  batch_pred = model2.predict(image_batch)\n",
    "  class_pred = np.argmax(batch_pred, axis=1)\n",
    "  \n",
    "  print('batch No {} with result: '.format(i), sum((class_pred == labels_batch).numpy()) / len(class_pred) * 100, '%')"
   ]
  }
 ],
 "metadata": {
  "kernelspec": {
   "display_name": ".venv",
   "language": "python",
   "name": "python3"
  },
  "language_info": {
   "codemirror_mode": {
    "name": "ipython",
    "version": 3
   },
   "file_extension": ".py",
   "mimetype": "text/x-python",
   "name": "python",
   "nbconvert_exporter": "python",
   "pygments_lexer": "ipython3",
   "version": "3.10.12"
  }
 },
 "nbformat": 4,
 "nbformat_minor": 2
}
