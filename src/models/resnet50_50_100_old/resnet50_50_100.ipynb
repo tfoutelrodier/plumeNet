{
 "cells": [
  {
   "cell_type": "code",
   "execution_count": 2,
   "metadata": {},
   "outputs": [],
   "source": [
    "import numpy as np\n",
    "import tensorflow as tf"
   ]
  },
  {
   "cell_type": "markdown",
   "metadata": {},
   "source": [
    "# train test split"
   ]
  },
  {
   "cell_type": "code",
   "execution_count": 3,
   "metadata": {},
   "outputs": [],
   "source": [
    "from keras.utils import image_dataset_from_directory"
   ]
  },
  {
   "cell_type": "code",
   "execution_count": 11,
   "metadata": {},
   "outputs": [
    {
     "name": "stdout",
     "output_type": "stream",
     "text": [
      "Found 5000 files belonging to 50 classes.\n",
      "Using 4000 files for training.\n",
      "Found 5000 files belonging to 50 classes.\n",
      "Using 1000 files for validation.\n"
     ]
    }
   ],
   "source": [
    "ds_train = image_dataset_from_directory('../data/french_bird_db_50_100', labels='inferred', image_size=(300, 300), validation_split=0.2, subset=\"training\",\n",
    "seed=42, batch_size=64)\n",
    "\n",
    "ds_test = image_dataset_from_directory('../data/french_bird_db_50_100', labels='inferred', image_size=(300, 300), validation_split=0.2, subset=\"validation\",\n",
    "seed=42, batch_size=64)"
   ]
  },
  {
   "cell_type": "code",
   "execution_count": 5,
   "metadata": {},
   "outputs": [
    {
     "name": "stdout",
     "output_type": "stream",
     "text": [
      "Nombre de classes : 50\n"
     ]
    }
   ],
   "source": [
    "# Obtenir le nombre de classes à partir de ds\n",
    "num_classes = len(ds_train.class_names)\n",
    "\n",
    "print('Nombre de classes :', num_classes)"
   ]
  },
  {
   "cell_type": "code",
   "execution_count": 6,
   "metadata": {},
   "outputs": [],
   "source": [
    "\n",
    "# Convertir les étiquettes cibles en vecteurs one-hot\n",
    "ds_train_mapped = ds_train.map(lambda x, y: (x, tf.one_hot(y, num_classes)))\n",
    "ds_test_mapped = ds_test.map(lambda x, y: (x, tf.one_hot(y, num_classes)))"
   ]
  },
  {
   "cell_type": "code",
   "execution_count": 8,
   "metadata": {},
   "outputs": [
    {
     "name": "stdout",
     "output_type": "stream",
     "text": [
      "Epoch 1/10\n",
      "\u001b[1m63/63\u001b[0m \u001b[32m━━━━━━━━━━━━━━━━━━━━\u001b[0m\u001b[37m\u001b[0m \u001b[1m125s\u001b[0m 2s/step - accuracy: 0.1005 - loss: 3.6099 - val_accuracy: 0.3590 - val_loss: 2.4824\n",
      "Epoch 2/10\n",
      "\u001b[1m63/63\u001b[0m \u001b[32m━━━━━━━━━━━━━━━━━━━━\u001b[0m\u001b[37m\u001b[0m \u001b[1m109s\u001b[0m 2s/step - accuracy: 0.4747 - loss: 2.1234 - val_accuracy: 0.5410 - val_loss: 1.7299\n",
      "Epoch 3/10\n",
      "\u001b[1m63/63\u001b[0m \u001b[32m━━━━━━━━━━━━━━━━━━━━\u001b[0m\u001b[37m\u001b[0m \u001b[1m107s\u001b[0m 2s/step - accuracy: 0.6211 - loss: 1.4687 - val_accuracy: 0.6370 - val_loss: 1.4189\n",
      "Epoch 4/10\n",
      "\u001b[1m63/63\u001b[0m \u001b[32m━━━━━━━━━━━━━━━━━━━━\u001b[0m\u001b[37m\u001b[0m \u001b[1m108s\u001b[0m 2s/step - accuracy: 0.7086 - loss: 1.1375 - val_accuracy: 0.6450 - val_loss: 1.2526\n",
      "Epoch 5/10\n",
      "\u001b[1m63/63\u001b[0m \u001b[32m━━━━━━━━━━━━━━━━━━━━\u001b[0m\u001b[37m\u001b[0m \u001b[1m108s\u001b[0m 2s/step - accuracy: 0.7677 - loss: 0.9091 - val_accuracy: 0.6920 - val_loss: 1.1630\n",
      "Epoch 6/10\n",
      "\u001b[1m63/63\u001b[0m \u001b[32m━━━━━━━━━━━━━━━━━━━━\u001b[0m\u001b[37m\u001b[0m \u001b[1m110s\u001b[0m 2s/step - accuracy: 0.8089 - loss: 0.7887 - val_accuracy: 0.6750 - val_loss: 1.1073\n",
      "Epoch 7/10\n",
      "\u001b[1m63/63\u001b[0m \u001b[32m━━━━━━━━━━━━━━━━━━━━\u001b[0m\u001b[37m\u001b[0m \u001b[1m110s\u001b[0m 2s/step - accuracy: 0.8320 - loss: 0.6859 - val_accuracy: 0.7000 - val_loss: 1.0424\n",
      "Epoch 8/10\n",
      "\u001b[1m63/63\u001b[0m \u001b[32m━━━━━━━━━━━━━━━━━━━━\u001b[0m\u001b[37m\u001b[0m \u001b[1m108s\u001b[0m 2s/step - accuracy: 0.8616 - loss: 0.5946 - val_accuracy: 0.7020 - val_loss: 1.0109\n",
      "Epoch 9/10\n",
      "\u001b[1m63/63\u001b[0m \u001b[32m━━━━━━━━━━━━━━━━━━━━\u001b[0m\u001b[37m\u001b[0m \u001b[1m105s\u001b[0m 2s/step - accuracy: 0.8858 - loss: 0.5108 - val_accuracy: 0.7340 - val_loss: 0.9657\n",
      "Epoch 10/10\n",
      "\u001b[1m63/63\u001b[0m \u001b[32m━━━━━━━━━━━━━━━━━━━━\u001b[0m\u001b[37m\u001b[0m \u001b[1m106s\u001b[0m 2s/step - accuracy: 0.8992 - loss: 0.4630 - val_accuracy: 0.7290 - val_loss: 0.9553\n"
     ]
    },
    {
     "data": {
      "text/plain": [
       "<keras.src.callbacks.history.History at 0x3881c0e80>"
      ]
     },
     "execution_count": 8,
     "metadata": {},
     "output_type": "execute_result"
    }
   ],
   "source": [
    "import tensorflow as tf\n",
    "from tensorflow.keras.layers import Dense, GlobalAveragePooling2D\n",
    "from tensorflow.keras.models import Model\n",
    "from tensorflow.keras.callbacks import EarlyStopping\n",
    "from tensorflow.keras.callbacks import TensorBoard\n",
    "\n",
    "tf.config.list_physical_devices()\n",
    "\n",
    "# Charger le modèle ResNet50 pré-entraîné avec les poids ImageNet\n",
    "base_model = tf.keras.applications.ResNet50(weights='imagenet', include_top=False, input_shape=(300, 300, 3))\n",
    "\n",
    "# Ajouter une couche de pooling global pour réduire la dimensionalité\n",
    "x = base_model.output\n",
    "x_2 = GlobalAveragePooling2D()(x)\n",
    "\n",
    "x_3 = Dense(num_classes, activation='relu')(x_2)\n",
    "\n",
    "# Ajouter une couche dense pour effectuer la classification\n",
    "output = Dense(num_classes, activation='softmax')(x_3)\n",
    "\n",
    "# Créer le modèle final en combinant le modèle de base et les couches supplémentaires\n",
    "model = Model(inputs=base_model.input, outputs=output)\n",
    "\n",
    "# Geler les couches du modèle de base pour éviter de les entraîner\n",
    "for layer in base_model.layers:\n",
    "    layer.trainable = False\n",
    "\n",
    "# Compiler le modèle\n",
    "model.compile(optimizer='adam', loss='categorical_crossentropy', metrics=['accuracy'])\n",
    "\n",
    "callbacks = [EarlyStopping(monitor='val_loss', patience=10),\n",
    "             TensorBoard(log_dir='./logs/relu', histogram_freq=0, write_graph=True, write_images=True)]\n",
    "\n",
    "# Entraîner le modèle sur votre dataset avec le callback personnalisé\n",
    "\n",
    "model.fit(ds_train_mapped, epochs=10, callbacks=callbacks, validation_data=ds_test_mapped)"
   ]
  },
  {
   "cell_type": "code",
   "execution_count": 9,
   "metadata": {},
   "outputs": [],
   "source": [
    "model.save_weights('current_model.weights.h5')"
   ]
  },
  {
   "cell_type": "code",
   "execution_count": 13,
   "metadata": {},
   "outputs": [],
   "source": [
    "import json\n",
    "\n",
    "# Stocker les noms de classes dans une liste\n",
    "class_names = ds_train.class_names\n",
    "\n",
    "# Stocker la liste dans un fichier JSON\n",
    "with open('class_names.json', 'w') as f:\n",
    "    json.dump(class_names, f)"
   ]
  },
  {
   "cell_type": "code",
   "execution_count": 16,
   "metadata": {},
   "outputs": [
    {
     "ename": "AttributeError",
     "evalue": "'_PrefetchDataset' object has no attribute 'labels'",
     "output_type": "error",
     "traceback": [
      "\u001b[0;31m---------------------------------------------------------------------------\u001b[0m",
      "\u001b[0;31mAttributeError\u001b[0m                            Traceback (most recent call last)",
      "Cell \u001b[0;32mIn [16], line 1\u001b[0m\n\u001b[0;32m----> 1\u001b[0m \u001b[43mds_test\u001b[49m\u001b[38;5;241;43m.\u001b[39;49m\u001b[43mlabels\u001b[49m\n",
      "\u001b[0;31mAttributeError\u001b[0m: '_PrefetchDataset' object has no attribute 'labels'"
     ]
    }
   ],
   "source": [
    "ds_test.labels"
   ]
  },
  {
   "cell_type": "code",
   "execution_count": 18,
   "metadata": {},
   "outputs": [
    {
     "name": "stderr",
     "output_type": "stream",
     "text": [
      "2024-07-02 15:41:42.031579: W tensorflow/core/framework/local_rendezvous.cc:404] Local rendezvous is aborting with status: OUT_OF_RANGE: End of sequence\n"
     ]
    }
   ],
   "source": [
    "def extract_label(image, label):\n",
    "    return label\n",
    "\n",
    "# Mapper chaque élément du jeu de test à son étiquette correspondante\n",
    "ds_test_labels = ds_test.map(extract_label)\n",
    "\n",
    "# Convertir les étiquettes en tableau NumPy\n",
    "labels_list = list(ds_test_labels.unbatch())\n",
    "y_true_classes = np.array(labels_list)\n",
    "# y_true_classes = tf.concat([ds_test_labels.batch(ds_test.cardinality().numpy()).unbatch().numpy()], axis=0)"
   ]
  },
  {
   "cell_type": "code",
   "execution_count": 21,
   "metadata": {},
   "outputs": [
    {
     "name": "stdout",
     "output_type": "stream",
     "text": [
      "\u001b[1m16/16\u001b[0m \u001b[32m━━━━━━━━━━━━━━━━━━━━\u001b[0m\u001b[37m\u001b[0m \u001b[1m21s\u001b[0m 1s/step\n"
     ]
    }
   ],
   "source": [
    "from sklearn.metrics import confusion_matrix\n",
    "\n",
    "y_pred = model.predict(ds_test)\n"
   ]
  },
  {
   "cell_type": "code",
   "execution_count": 23,
   "metadata": {},
   "outputs": [
    {
     "data": {
      "text/plain": [
       "array([45, 24, 15, 45, 30, 20, 35, 16, 37, 33, 45,  9, 35,  9, 45, 19, 22,\n",
       "       35, 18, 11, 41, 48, 37, 46, 49,  8, 17,  8,  0, 22,  2, 26, 12, 37,\n",
       "       10, 30,  3, 36, 24, 44, 23,  6, 27, 25, 19, 34, 19, 39,  2, 37, 49,\n",
       "       37, 20, 39, 13,  8, 40, 27, 21, 23, 10,  4,  6, 46, 45,  2, 49, 35,\n",
       "        3,  0, 43,  7, 27,  1, 23, 11, 36, 39, 45,  2,  6, 38, 14, 22, 48,\n",
       "       48, 32, 14, 35, 45, 25, 27, 11, 17, 23,  7, 27, 19,  1, 18, 42, 37,\n",
       "       24, 19, 25, 18, 29, 46, 45,  2,  6, 28, 17,  0, 32, 28, 39, 13, 48,\n",
       "        1, 11, 23, 20, 36, 14, 25,  0, 32, 10, 11, 37, 37, 24, 43, 19, 48,\n",
       "        2, 15, 37, 35, 13, 35,  9, 11, 22, 47,  3, 48, 44, 33, 18,  2, 19,\n",
       "       42, 29, 13,  9,  1, 39, 35, 49, 31, 41, 37, 43,  3, 22,  7, 34, 36,\n",
       "       13,  1,  7, 33, 26, 43, 33, 39, 10, 21,  1,  0, 22, 39, 29,  0, 48,\n",
       "        9, 29, 31, 15, 13, 10, 29, 27, 40,  1, 30,  1, 37, 31, 30, 48, 33,\n",
       "       42, 27, 43, 45, 43, 43,  1,  1, 22, 16, 26,  1,  3, 22,  5,  8,  0,\n",
       "       32, 42, 10, 27,  6, 34, 29, 47, 49,  7, 40, 18,  0, 20,  5, 25, 32,\n",
       "       22, 43, 16, 25, 32, 43, 27, 30, 21, 27, 19, 37, 20, 48, 29, 39,  5,\n",
       "       27, 12, 29,  7, 16, 38, 38, 47, 16, 31,  0, 43, 48, 24, 31, 39, 47,\n",
       "       23,  7, 41, 20, 32, 37, 21, 29, 40, 48, 38,  8,  2, 43, 11, 46, 17,\n",
       "       16, 28, 27,  7, 41,  9,  4, 28,  4, 12, 20, 30,  7, 14,  0, 18, 21,\n",
       "        1,  1, 37, 47,  3,  8,  9, 48, 21, 32, 44, 31, 38, 38, 31, 40, 14,\n",
       "       27, 22, 42, 19,  7,  9, 41,  7,  1, 16,  3,  7,  9, 42,  0,  7, 22,\n",
       "       30, 49, 22, 44, 46, 18, 23,  3, 13, 37, 31, 45, 39, 49, 16,  6, 48,\n",
       "       47, 14, 39, 10, 46, 37, 43, 45, 16,  8, 42,  9, 45,  4, 12, 37,  3,\n",
       "       23, 16, 45, 42, 12, 44, 35, 47,  3, 33, 36, 25, 26, 49, 33, 13, 33,\n",
       "       37,  6, 24, 32, 13, 18, 34, 25, 39, 39, 11,  4,  1, 41,  7, 16, 35,\n",
       "        2, 40, 48, 28,  4, 34,  1, 27, 35, 42,  7,  1, 12, 44, 25, 35, 27,\n",
       "       34, 47, 20,  5, 29, 34, 42, 37, 49, 44, 33,  7,  9,  4, 40, 47, 38,\n",
       "       38, 35, 37, 43, 42, 11,  0, 34, 41, 41,  2, 37, 11, 26, 27, 41, 15,\n",
       "        0, 16, 34, 33,  7, 21, 10,  0, 19, 40,  5, 43, 21,  7, 17, 33, 10,\n",
       "       21,  1, 32, 48, 17, 35, 18, 32, 20, 17, 25, 16, 29, 44, 11, 46,  5,\n",
       "       38, 25, 16,  8, 30, 25, 10, 20, 17, 17, 12, 35,  8,  1, 48, 36, 40,\n",
       "       33, 20,  9, 36,  0,  2, 21, 30, 25, 19,  7, 48, 21, 30, 39, 46, 41,\n",
       "       24,  1, 46, 45, 44, 10, 48,  9, 45,  0, 12, 41, 15, 33, 15, 10, 45,\n",
       "       32, 49,  9, 19, 49,  6, 13,  9, 40, 45, 21, 41, 35,  7, 22, 44, 22,\n",
       "       45, 15, 19, 27, 19, 22, 31, 18, 25,  0, 10, 27, 23, 11, 14, 10, 21,\n",
       "       31, 37, 29,  2,  7, 24,  9, 18,  4, 36, 29, 12, 10,  9, 24, 33, 29,\n",
       "       30, 36, 37, 39, 39,  1, 29, 19, 17, 28, 37, 25, 23, 15, 13, 17, 37,\n",
       "       11, 22, 43,  1, 18, 21, 15, 38, 25, 33, 32,  7,  0, 36,  3, 29, 21,\n",
       "        3, 30,  0,  0, 33, 19, 27, 22, 39, 18, 34, 14, 46, 32, 18,  3, 12,\n",
       "       40, 10, 37,  6, 17, 47, 37, 10, 38, 23, 43, 38, 15,  2,  5,  3,  3,\n",
       "       36,  7, 16, 33, 37, 30, 44, 39, 48, 42, 10, 40, 30, 16,  2, 47, 16,\n",
       "       39, 13, 44,  3, 29, 33, 45, 35,  0,  4, 41, 37, 46, 31,  1, 25, 31,\n",
       "       19, 19, 48, 47,  8, 15, 32, 41, 39, 49, 45, 47, 49,  6, 25,  8, 32,\n",
       "        1,  0,  3, 28, 25, 22, 11,  8, 43, 48, 39,  0, 37, 32,  6, 29, 25,\n",
       "       20, 29,  7, 25,  3, 33,  9,  0, 17, 33, 16, 43, 37, 45, 21,  7, 10,\n",
       "       26, 38,  6, 22,  4,  4, 21, 46, 37, 43, 41, 25, 39, 44, 31,  1, 27,\n",
       "        1,  5, 42, 25, 23,  3, 20, 37, 37, 49, 10,  5, 41, 30, 15, 36, 43,\n",
       "       48, 44, 15,  2, 40, 38, 37, 37, 39,  7, 27, 46, 33, 49, 27,  9, 17,\n",
       "       25,  9, 49, 32, 36,  0, 40, 43, 37,  1,  5, 19, 43, 39, 43, 34, 32,\n",
       "       20, 36, 30,  6,  7, 30, 39, 23, 23, 25, 45, 19, 12, 42, 16, 49, 47,\n",
       "       44, 23, 13, 35, 12, 25, 48, 22, 17, 44, 48, 34, 14, 33, 37, 28, 24,\n",
       "       19, 46, 44,  5, 31, 25,  1, 32, 39, 35, 25, 22, 45,  3, 10, 37, 28,\n",
       "        1, 17, 48, 37,  9, 41,  7, 46, 33, 20, 11, 29,  5, 13, 21, 39, 34,\n",
       "       38, 20, 13, 30, 36,  4, 34, 32, 20, 45, 38, 20, 20, 32, 10, 41, 33,\n",
       "       47,  9, 19,  8, 49, 10, 11,  1, 36, 44,  9,  6, 25, 15, 19, 42, 43,\n",
       "       41, 41,  5, 28, 25, 43, 49, 20, 30, 34, 28, 48, 32,  9, 11, 43, 38,\n",
       "       20,  6,  8, 19,  7, 48,  4, 13, 41,  5, 37, 40, 27, 24, 41, 23, 24,\n",
       "        8, 25, 20, 15, 45, 22,  6, 11, 10,  0, 43, 15, 37, 15, 23, 20,  0,\n",
       "       31,  0, 15, 49, 46, 20, 44,  9, 21, 40, 31, 30,  7, 29, 31,  0, 47,\n",
       "       31, 24, 24, 40, 27, 25, 32, 40, 44, 43, 28, 32, 12, 18])"
      ]
     },
     "execution_count": 23,
     "metadata": {},
     "output_type": "execute_result"
    }
   ],
   "source": [
    "y_pred_classes = np.argmax(y_pred, axis=1)\n",
    "y_pred_classes"
   ]
  },
  {
   "cell_type": "code",
   "execution_count": 26,
   "metadata": {},
   "outputs": [
    {
     "name": "stderr",
     "output_type": "stream",
     "text": [
      "2024-07-02 15:47:19.045237: W tensorflow/core/framework/local_rendezvous.cc:404] Local rendezvous is aborting with status: OUT_OF_RANGE: End of sequence\n"
     ]
    },
    {
     "data": {
      "text/plain": [
       "array([23, 20, 47, 11, 22, 26, 29, 20, 44,  5, 29, 42,  4,  9, 27,  8, 48,\n",
       "        4, 21, 44, 12,  1, 33, 46, 22, 28, 16, 13,  3, 45,  3,  9, 45,  9,\n",
       "        0, 27, 43, 18, 35, 12, 29, 44,  0, 12,  1, 40,  8, 27, 41, 34, 41,\n",
       "        9, 34, 36, 35, 26, 48, 34, 19, 25, 27, 34, 35, 11,  4, 23, 18, 16,\n",
       "       20, 32, 38, 10, 46,  5, 21, 27, 13, 31, 26, 37, 30,  5,  1, 27,  7,\n",
       "        3, 18, 25, 21, 32,  6, 15, 33, 22, 36,  6, 30, 26,  9, 33, 41, 41,\n",
       "       12, 27, 28, 29, 28, 40, 15, 13, 41,  9, 32, 34, 35,  9, 13, 15, 28,\n",
       "       47, 16,  3, 16, 45, 27, 49, 43,  9,  9, 20, 22, 40, 39, 19, 48,  6,\n",
       "        0, 32, 40, 33, 14, 11, 49, 45, 29, 43, 39, 21, 32, 11, 21, 28,  9,\n",
       "       10,  6, 13, 44, 11, 17, 34, 11, 13, 38,  4, 48, 19, 33,  1, 41, 42,\n",
       "       18, 47, 16, 37, 44,  2,  7, 13, 34, 49, 40, 12, 30, 12, 10, 36, 46,\n",
       "        2, 24, 38, 23, 41, 35, 33, 29, 41,  3,  4, 43, 11, 30, 49, 30, 35,\n",
       "       45, 32, 33,  4, 35, 44, 15, 16, 31, 31, 21,  7,  8, 42, 26, 37,  7,\n",
       "       18, 40,  8,  4,  2, 32, 43, 45, 16, 43, 30, 33,  3, 32,  5,  5,  8,\n",
       "       14, 45, 19, 33, 44, 13, 41, 41, 41, 24,  2, 25,  7, 44, 11, 33, 42,\n",
       "       45, 45, 45, 29, 33, 25, 41, 23, 49, 43, 19, 47, 39, 34, 10, 45, 23,\n",
       "       21, 30,  8, 16,  5, 13, 26, 25, 35, 21, 11,  7, 12, 19, 40, 13,  7,\n",
       "       43,  0, 37, 43, 32,  1, 32, 13, 47, 41, 27, 16, 26, 22,  7, 49, 21,\n",
       "       48, 32, 22,  8,  5, 33, 28, 31, 27, 43, 17, 32, 49, 46, 23, 29, 17,\n",
       "       24, 20, 36,  1, 19, 28, 41, 31,  4, 49, 37, 37, 20, 46,  9, 18, 35,\n",
       "       31,  5,  6, 35, 32, 33, 47, 29, 21, 37, 18, 36, 39,  2, 31, 30, 20,\n",
       "       27, 47, 27, 30, 30, 40,  2,  1, 41, 14,  6,  8, 23, 39, 37, 17, 22,\n",
       "       27, 30,  2, 43, 17, 21,  1, 32, 44,  9, 19, 16, 24, 46, 35, 36,  1,\n",
       "       47, 23,  8, 41,  2, 30, 27, 28, 29, 16, 25,  6, 33, 25,  7,  9, 37,\n",
       "        2, 11, 13, 49, 23, 35, 13, 38, 41, 10, 47,  9, 19, 48, 39,  7, 41,\n",
       "       32, 47, 34, 26, 10, 25, 24, 25, 15,  9, 48, 18, 40,  1, 23, 21, 35,\n",
       "        8,  3, 31, 26,  6, 19, 29, 26, 26, 48, 19, 18, 17, 10, 23, 38, 30,\n",
       "        0, 34,  0,  6, 34, 31, 45, 12, 10, 20, 48,  4, 23,  6, 24,  9, 12,\n",
       "       21, 46, 18, 10, 16,  1, 20, 16, 29,  8, 28, 42, 26, 15, 39, 41,  2,\n",
       "        9,  7, 42, 47, 13, 44, 31,  5, 23, 15, 19, 32, 43, 43, 37, 36, 11,\n",
       "       44, 34, 18, 48, 32, 27,  2, 15, 40, 48, 19, 15, 16, 29, 49, 27, 42,\n",
       "       36, 46, 22, 14, 13, 48, 15, 19, 29, 43, 12, 25, 24,  8, 10, 13,  6,\n",
       "       37, 10, 17, 12, 25, 27, 33, 17, 39, 31, 39, 22, 14,  7, 48,  1, 21,\n",
       "       19,  4, 42, 44,  9, 38,  6, 20, 20, 24, 11, 49, 49,  5, 14,  8, 40,\n",
       "       45,  0,  5, 16, 49, 23, 25,  4, 44,  9, 32, 30, 27, 49, 43,  0, 12,\n",
       "       45, 15, 38, 30, 41, 10, 25, 10, 37, 15, 46, 41, 33, 45, 42,  4, 28,\n",
       "       21, 16, 12, 26,  7, 10, 37, 43, 17, 44, 12, 24, 20, 49,  3, 27,  8,\n",
       "       37,  8, 32, 44,  1, 11, 28, 30, 48,  0, 38,  6, 49, 29, 31, 43, 34,\n",
       "       11, 35, 45, 45, 19, 47, 27, 16,  2, 30, 27, 25, 10, 45, 48,  1, 21,\n",
       "       28, 38, 18,  5, 31, 47, 18, 35, 19, 30, 46, 37, 26,  0, 39, 40, 30,\n",
       "       33, 31, 37,  2, 39, 28, 28,  9, 20, 26, 41, 36, 16, 25,  3, 38, 24,\n",
       "        1, 30, 36, 33,  7, 13, 31, 19,  6, 48,  6, 12,  8, 46, 16, 28,  3,\n",
       "        1, 16, 44, 21, 34, 16, 45, 48, 42, 49, 37, 46,  7, 21, 24, 23, 32,\n",
       "        3,  9, 43, 44, 47, 21, 25, 29, 35, 24, 45, 13, 47, 16, 14, 29, 19,\n",
       "       46, 38, 37, 38, 45, 43, 45, 20, 39,  6,  2, 29, 41, 20, 36, 22, 19,\n",
       "       47, 27,  1, 27, 27, 18, 35, 29,  5, 16,  8, 33, 20,  3, 28, 31, 26,\n",
       "       30,  9, 34, 24, 37, 41, 15, 37, 10, 43, 18, 38,  1, 33, 44,  6, 37,\n",
       "        7,  3, 45, 37, 32,  3, 33, 34, 35, 28, 24,  6, 48, 33,  9, 10, 48,\n",
       "        6,  8, 11, 16, 25, 25, 10, 23, 29, 41, 40, 34, 30, 32, 34, 13, 18,\n",
       "       34, 23, 43, 29, 43, 17,  5, 41, 28, 31, 40,  8, 17, 44,  2, 41, 44,\n",
       "        2, 18,  7, 36, 25, 31, 34, 15,  5,  5, 29, 22, 12,  8, 43, 44, 44,\n",
       "       17, 21, 20, 31,  2, 27, 34, 16,  2, 18, 18, 18, 42, 18, 26, 12, 37,\n",
       "       21, 19, 31,  3, 47, 20, 20, 16, 35, 33, 44, 20,  7, 38, 13, 29, 29,\n",
       "       22, 22, 36, 49, 11, 19, 35, 48, 45, 32, 25, 31, 22, 18, 18,  6, 38,\n",
       "       26, 41, 48, 20,  7,  6, 46, 14, 28, 25, 20, 18, 11, 22, 40, 11,  1,\n",
       "       41, 27, 39, 34, 27,  8, 47,  7, 17, 22, 30, 33, 27, 35, 27, 13, 22,\n",
       "       25, 37, 35, 15, 19,  4, 15, 28, 47,  5,  0,  0, 17, 33, 32,  2,  3,\n",
       "       12, 11,  9, 27, 40, 41,  4, 49, 14, 27, 28, 42, 23, 40,  0,  1,  8,\n",
       "       29, 23, 11, 22, 28, 48, 10, 18,  0, 32, 39,  3, 23,  3],\n",
       "      dtype=int32)"
      ]
     },
     "execution_count": 26,
     "metadata": {},
     "output_type": "execute_result"
    }
   ],
   "source": [
    "# Définir une fonction pour extraire l'étiquette d'un élément du jeu de test\n",
    "def extract_label(image, label):\n",
    "    return label\n",
    "\n",
    "# Mapper chaque élément du jeu de test à son étiquette correspondante\n",
    "ds_test_labels = ds_test.map(extract_label)\n",
    "labels_list = list(ds_test_labels.unbatch())\n",
    "y_true = np.array(labels_list)\n",
    "y_true"
   ]
  },
  {
   "cell_type": "code",
   "execution_count": null,
   "metadata": {},
   "outputs": [],
   "source": [
    "\n",
    "# y_true_classes = np.argmax(ds_test.labels, axis=1)\n",
    "conf_matrix = confusion_matrix(y_true_classes, y_pred_classes)"
   ]
  }
 ],
 "metadata": {
  "kernelspec": {
   "display_name": ".venv",
   "language": "python",
   "name": "python3"
  },
  "language_info": {
   "codemirror_mode": {
    "name": "ipython",
    "version": 3
   },
   "file_extension": ".py",
   "mimetype": "text/x-python",
   "name": "python",
   "nbconvert_exporter": "python",
   "pygments_lexer": "ipython3",
   "version": "3.10.12"
  }
 },
 "nbformat": 4,
 "nbformat_minor": 2
}
